{
 "cells": [
  {
   "cell_type": "code",
   "execution_count": 5,
   "id": "0f8e6b43",
   "metadata": {},
   "outputs": [],
   "source": [
    "import warnings, csv, os, sys, json\n",
    "import pandas as pd\n",
    "import json_repair\n",
    "from typing import List\n",
    "warnings.filterwarnings(\"ignore\")\n",
    "from langchain_openai import ChatOpenAI\n",
    "from langchain_openai import ChatOpenAI\n",
    "from langchain_core.prompts import (\n",
    "    ChatPromptTemplate\n",
    ")\n",
    "from langchain_community.utils.openai_functions import (\n",
    "    convert_pydantic_to_openai_function,\n",
    ")\n",
    "from langchain_core.pydantic_v1 import BaseModel, Field\n",
    "from langchain.output_parsers.openai_functions import JsonKeyOutputFunctionsParser"
   ]
  },
  {
   "cell_type": "code",
   "execution_count": 2,
   "id": "8c826bb6",
   "metadata": {},
   "outputs": [],
   "source": [
    "def write_csv(output_file, data):\n",
    "    with open(output_file, 'a', newline='', encoding='utf-8') as outfile:  \n",
    "        writer = csv.writer(outfile)\n",
    "        writer.writerow(data)"
   ]
  },
  {
   "cell_type": "code",
   "execution_count": 3,
   "id": "9431965a",
   "metadata": {},
   "outputs": [],
   "source": [
    "def write_txt(txt_path, data):\n",
    "    with open(txt_path, 'a') as txf:\n",
    "        txf.write(data)"
   ]
  },
  {
   "cell_type": "code",
   "execution_count": 6,
   "id": "21c1dd97",
   "metadata": {},
   "outputs": [],
   "source": [
    "#variables\n",
    "\n",
    "model_name = 'gpt-4-1106-preview'  #gpt model name\n",
    "audience = ' US owners of 1 dog'  #audience\n",
    "output_file = 'run2.csv'\n",
    "txt_file = 'output.txt'\n",
    "\n",
    "#you can change questions and traits/count as you want, this part has become dynamic in this notebook.\n",
    "questions = [\n",
    "\"How old is your dog (in # of years)?\",\n",
    "\"What is your dog's primary breed?\",\n",
    "\"Approximately how much does your dog weigh (in pounds)?\",\n",
    "\"What is your dog's name?\",\n",
    "\"What was the inspiration for that name?\",\n",
    "\"What is the most common nickname (if any) that you use for your dog?\",\n",
    "\"When did you get your dog? (Before 2020, In 2020, After 2020)\",\n",
    "\"Did you adopt your dog? (yes/no)\",\n",
    "\"How old was your dog when you got him/her? Provide estimated number of months old.\",\n",
    "\"How did you feel the first time you met your dog?\",\n",
    "\"How has your dog changed your outlook on life?\",\n",
    "\"On a scale of 1-5, where 1 is not at all important and 5 is very important, how important is your dog's happiness to your overall well-being?\",\n",
    "\"Choose the term that best describes your dog's relationship with you.(Best Friend,Loyal companion,Family Member,Protector,None of these apply)\",\n",
    "\"Why did you choose that term?\",\n",
    "\"What is the most recent command or trick your dog has learned, and how long did it take to train?\",\n",
    "\"How many hours a day does your dog typically sleep and where does your dog usually sleep in your home?\",\n",
    "\"Have you shopped for your dog online in the past year? (yes/no)\",\n",
    "\"Over the past year, approximately how much did you spend on your dog? Provide total $ amount.\",\n",
    "\"Over the past year, approximately what percent of the money you spent on your dog was paid to your veterinarian? Choose a percent from 0% to 100%.\",\n",
    "\"Over the past year, approximately what percent of the money you spent on your dog was on dog food? Choose a percent from 0% to 100%.\",\n",
    "\"In March, approximately much money did you spend on your dog? Provide estimated total $ amount.\",\n",
    "\"How did the amount of money you spent on your dog in March compare with February?(Spent about the same in March,I'm not sure,Spent more in March,Spent less in March)\",\n",
    "\"How often do you purchase dog food? (Bi-weekly,Monthly,Less frequently than monthly,Weekly)\",\n",
    "\"Do you primarily feed your dog dry food, wet food, or a mix?\",\n",
    "\"Which of the following statements best describes your level of familiarity of your dog's primary food brand?(I know a lot about the brand,I know just the basics about the brand,I'm not very familiar with the brand)\",\n",
    "\"On a scale of 1-5, where 1 is not at all important and 5 is very important, how important is the following in choosing your primary dog food brand? Quality of ingredients\",\n",
    "\"Price\",\n",
    "\"Nutritional value of the dog food\",\n",
    "\"Brand reputation\",\n",
    "\"How your dog likes the taste\",\n",
    "\"Your veterinarian's recommendation\",\n",
    "\"Special dietary needs\",\n",
    "\"What dog food brand do you give your dog the most?\",\n",
    "\"What are the main 2-3 reasons you choose this brand?\",\n",
    "\"On a scale of 1-5, where 1 is not at all satisfied and 5 is very satisfied, how satisfied are you with the following for your primary dog food brand? Quality of ingredients\",\n",
    "\"Price\",\n",
    "\"Nutritional value of the dog food\",\n",
    "\"Brand reputation\",\n",
    "\"How your dog likes the taste\",\n",
    "\"Your veterinarian's recommendation\",\n",
    "\"Special dietary needs\",\n",
    "\"How many times a day does your dog typically go out for a walk?(0,1,2,3,4,5,more than 5,not sure)\",\n",
    "\"How (if at all) have recent events affected how you interact with your dog?(No change,Not sure,I interact more,I interact less)\",\n",
    "\"What events are affecting your interaction level most?\",\n",
    "\"Are you planning to watch the Summer Olympics with your dog?(No,Yes,Not Sure)\",\n",
    "\"Are you planning to travel this Spring with your dog?(No,Yes,Not Sure)\",\n",
    "\"If planning to travel this Spring with your dog, which is your preferred method of transportation? Select the best option.(Bus,Car,N/A-I'm not planning to travel with my dog this Spring,Other)\",\n",
    "\"What is your gender?\",\n",
    "\"What is your age?\",\n",
    "\"How many people, including yourself, live in your household?(1,2,3,5 or more)\",\n",
    "\"What is the highest level of education you have completed?(Associate degree, Bachelor's degree,Graduate degree, High school diploma or equivalent, Some college, no degree)\",\n",
    "\"What is your current employment status?(Employed full-time,Employed part-time,Retired,Self-employed,Unable to work,Unemployed)\",\n",
    "\"What is your total annual household income before taxes?($100,000 to $149,000,$150,000 or more,$25,000 to $49,999,$50,000 to $74,999, Less than $25,000, Prefer not to say)\",\n",
    "\"In what city do you currently reside?\",\n",
    "\"In what state do you currently reside?\"\n",
    "]\n",
    "\n",
    "traits_and_counts = [\n",
    "    ('Men aged 60+', 17)\n",
    "]\n"
   ]
  },
  {
   "cell_type": "code",
   "execution_count": 5,
   "id": "98f64ee1",
   "metadata": {},
   "outputs": [],
   "source": [
    "# questions = [\n",
    "#     'How happy are you with your life on a scale of 1-5 where 1 is very unhappy and 5 is very happy? (#)',\n",
    "#     'What are the few tech tools that you use daily?',\n",
    "#     'What is your profession?',\n",
    "# ]\n",
    "\n",
    "# traits_and_counts = [\n",
    "#     ('Men being currently employed', 4),\n",
    "#     ('Women being currently employed', 3)\n",
    "# ]\n"
   ]
  },
  {
   "cell_type": "code",
   "execution_count": 10,
   "id": "f82ba8c1",
   "metadata": {},
   "outputs": [],
   "source": [
    "# This block of code is not needed, it is there to know how function calling works.\n",
    "\n",
    "# To learn more about function calling, check this out https://www.datacamp.com/tutorial/open-ai-function-calling-tutorial\n",
    "#Answer is the class which contains response given by each user, it also contain traits to know which person answered the questions.\n",
    "#llm is inteligent enough to give unique response each time based on the given system and user prompt, we should not worry about it.\n",
    "class Answer(BaseModel):\n",
    "    \"\"\"Elements of JSON structure that is extracted from User Prompts. \"\"\"\n",
    "\n",
    "    type: str = Field(description=\"The type command extracted from User Prompt.\")\n",
    "    andSelect: list = Field(description=\"The list of conditions based on select and where statement extracted from User Prompt.\")\n",
    "    transformColumn: str = Field(description=\"The column that needs to be transformed extracted from User Prompt.\")\n",
    "    transformOperation: str = Field(description=\"The transformation operation needs to be done on column given in User Prompt.\")\n",
    "    transformValue: str = Field(description=\"The value that needs to be transformed.\")\n",
    "    mode: str = Field(description=\"Mode of the user prompt\")\n",
    "    selectExpr: str = Field(description=\"Count of values in select statement that needs to be transformed\")\n",
    "    headerName: str = Field(description=\"Column name given in User Prompt\")\n",
    "    \n",
    "    \n",
    "    \n",
    "#list of answers, the formatted list that the llm model will generate which contains dictionaries of Answer class\n",
    "#llm model will make sure that each dictionary in the list is unique from each other as it will treat the list like list of human responses.\n",
    "# class Answers(BaseModel):\n",
    "#     \"\"\"Human-like survey answers to tell user.\"\"\"\n",
    "\n",
    "#     answer: List[Answer]"
   ]
  },
  {
   "cell_type": "code",
   "execution_count": 11,
   "id": "c4fc7f4a",
   "metadata": {},
   "outputs": [],
   "source": [
    "openai_functions = [convert_pydantic_to_openai_function(Answer)]"
   ]
  },
  {
   "cell_type": "code",
   "execution_count": 12,
   "id": "af0426b2",
   "metadata": {},
   "outputs": [
    {
     "data": {
      "text/plain": [
       "[{'name': 'Answer',\n",
       "  'description': 'Elements of JSON structure that is extracted from User Prompts. ',\n",
       "  'parameters': {'type': 'object',\n",
       "   'properties': {'type': {'description': 'The type command extracted from User Prompt.',\n",
       "     'type': 'string'},\n",
       "    'andSelect': {'description': 'The list of conditions based on select and where statement extracted from User Prompt.',\n",
       "     'type': 'array',\n",
       "     'items': {}},\n",
       "    'transformColumn': {'description': 'The column that needs to be transformed extracted from User Prompt.',\n",
       "     'type': 'string'},\n",
       "    'transformOperation': {'description': 'The transformation operation needs to be done on column given in User Prompt.',\n",
       "     'type': 'string'},\n",
       "    'transformValue': {'description': 'The value that needs to be transformed.',\n",
       "     'type': 'string'},\n",
       "    'mode': {'description': 'Mode of the user prompt', 'type': 'string'},\n",
       "    'selectExpr': {'description': 'Count of values in select statement that needs to be transformed',\n",
       "     'type': 'string'},\n",
       "    'headerName': {'description': 'Column name given in User Prompt',\n",
       "     'type': 'string'}},\n",
       "   'required': ['type',\n",
       "    'andSelect',\n",
       "    'transformColumn',\n",
       "    'transformOperation',\n",
       "    'transformValue',\n",
       "    'mode',\n",
       "    'selectExpr',\n",
       "    'headerName']}}]"
      ]
     },
     "execution_count": 12,
     "metadata": {},
     "output_type": "execute_result"
    }
   ],
   "source": [
    "openai_functions"
   ]
  },
  {
   "cell_type": "code",
   "execution_count": 53,
   "id": "f4dd6f87",
   "metadata": {},
   "outputs": [],
   "source": [
    "system_message = \"\"\"\n",
    "You are a JSON extracting bot from the given User prompt. You need to return JSON by extracting useful elements from the User Prompt.\n",
    "User prompt generally is statements of SQL commands.\n",
    "Here are few examples of User prompt and the JSON format that needs to be extracted from the User prompt:\n",
    "\n",
    "User Prompt: Select rows where column 9 contains USD. Then, prepend 'ID-' to the beginning of column 2.\n",
    "Answer:\n",
    "\t\"type\": \"SelectAndTransformCommand\",\n",
    "\t\"andSelect\": [\n",
    "\t\t\"9 containsIgnoreCase USD\"\n",
    "\t],\n",
    "\t\"transformColumn\": \"2\",\n",
    "\t\"transformOperation\": \"prepend\",\n",
    "\t\"transformValue\": \"ID-\",\n",
    "\t\"mode\": \"Modify\"\n",
    "\n",
    "User Prompt: change column 9 to this or last working date.\n",
    "Answer:\n",
    "\t\"type\": \"SelectAndTransformCommand\",\n",
    "\t\"transformColumn\": \"9\",\n",
    "\t\"transformOperation\": \"thisOrLastWorkingDate\",\n",
    "\t\"mode\": \"Modify\"\n",
    "\n",
    "User Prompt: Remove all instances of \"0.000000\" from within Column 1\n",
    "Answer:\n",
    "\t\"type\": \"SelectAndTransformCommand\",\n",
    " \t\"selectExpr\": \"ALL\",\n",
    "\t\"transformColumn\": \"1\",\n",
    "\t\"transformOperation\": \"removeAllX\",\n",
    "\t\"transformValue\": \"0.000000\",\n",
    "\t\"mode\": \"Modify\"\n",
    "\n",
    "User Prompt: Where Column 78 is not blank, keep the first three characters\n",
    "Answer:\n",
    "\t\"type\": \"SelectAndTransformCommand\",\n",
    "\t\"andSelect\": [\n",
    "\t\t\"78 notEquals \"\n",
    "\t],\n",
    "\t\"transformColumn\": \"78\",\n",
    "\t\"transformOperation\": \"keepFirstXChars\",\n",
    "\t\"transformValue\": \"3\",\n",
    "\t\"mode\": \"Modify\"\n",
    "\n",
    "User Prompt: Round all numerical information within column 9 to two decimal places\n",
    "Answer:\n",
    "\t\"type\": \"SelectAndTransformCommand\",\n",
    "\t\"selectExpr\": \"ALL\",\n",
    "\t\"transformColumn\": \"9\",\n",
    "\t\"transformOperation\": \"rounding\",\n",
    "\t\"transformValue\": \"2\",\n",
    "\t\"mode\": \"Modify\"\n",
    "\n",
    "User Prompt: Add a new column \"One\" with value 1 for all rows\n",
    "Answer:\n",
    "\t\"type\": \"AddColumnCommand\",\n",
    "\t\"headerName\": \"One\",\n",
    " \t\"selectExpr\": \"ALL\",\n",
    "\t\"value\": \"1\"\n",
    "\n",
    "\"\"\""
   ]
  },
  {
   "cell_type": "code",
   "execution_count": 54,
   "id": "dbfabebf",
   "metadata": {},
   "outputs": [],
   "source": [
    "#bind openai_functions to llm for function calling\n",
    "llm = ChatOpenAI(\n",
    "    temperature=0,\n",
    "    model_name=model_name\n",
    ").bind(functions=openai_functions)\n",
    "# llm = ChatOpenAI(\n",
    "#     temperature=0,\n",
    "#     model_name=model_name\n",
    "# )"
   ]
  },
  {
   "cell_type": "code",
   "execution_count": 55,
   "id": "ffcbdd16",
   "metadata": {},
   "outputs": [],
   "source": [
    "#chat template\n",
    "prompt = ChatPromptTemplate.from_messages(\n",
    "    [(\"system\", system_message), (\"user\", \"{input}\")]\n",
    ")"
   ]
  },
  {
   "cell_type": "code",
   "execution_count": 56,
   "id": "29be918b",
   "metadata": {},
   "outputs": [],
   "source": [
    "#chain using prompt, llm and parser\n",
    "#it uses the prompt with llm and generate the answer based on the parser\n",
    "\n",
    "# chain = prompt | llm | parser\n",
    "\n",
    "chain = prompt | llm "
   ]
  },
  {
   "cell_type": "code",
   "execution_count": 58,
   "id": "fe9869fd",
   "metadata": {},
   "outputs": [],
   "source": [
    "def output_parser(response):\n",
    "    try:\n",
    "        return eval(response.additional_kwargs['function_call']['arguments'])\n",
    "    except Exception as e:\n",
    "        try:\n",
    "            return json_repair.loads(response.additional_kwargs['function_call']['arguments'])\n",
    "        except Exception as e:\n",
    "            return None"
   ]
  },
  {
   "cell_type": "code",
   "execution_count": 61,
   "id": "822a5c90",
   "metadata": {},
   "outputs": [],
   "source": [
    "user_prompt = 'Where Column 77 is not equal to \" \", then append \"Sell\" to Column 77'\n",
    "\n",
    "input_message = f\"Generate JSON format from given User Prompt.\\n\"\n",
    "input_message += f'This is User Prompt: {user_prompt}\\n'\n",
    "res = chain.invoke({\"input\": input_message})"
   ]
  },
  {
   "cell_type": "code",
   "execution_count": 62,
   "id": "0d6a260f",
   "metadata": {},
   "outputs": [
    {
     "data": {
      "text/plain": [
       "{'type': 'SelectAndTransformCommand',\n",
       " 'andSelect': ['77 notEquals \" \"'],\n",
       " 'transformColumn': '77',\n",
       " 'transformOperation': 'append',\n",
       " 'transformValue': 'Sell',\n",
       " 'mode': 'Modify'}"
      ]
     },
     "execution_count": 62,
     "metadata": {},
     "output_type": "execute_result"
    }
   ],
   "source": [
    "output_parser(res)"
   ]
  },
  {
   "cell_type": "code",
   "execution_count": null,
   "id": "c6a850b5",
   "metadata": {},
   "outputs": [],
   "source": []
  }
 ],
 "metadata": {
  "kernelspec": {
   "display_name": "Python 3 (ipykernel)",
   "language": "python",
   "name": "python3"
  },
  "language_info": {
   "codemirror_mode": {
    "name": "ipython",
    "version": 3
   },
   "file_extension": ".py",
   "mimetype": "text/x-python",
   "name": "python",
   "nbconvert_exporter": "python",
   "pygments_lexer": "ipython3",
   "version": "3.10.13"
  }
 },
 "nbformat": 4,
 "nbformat_minor": 5
}
