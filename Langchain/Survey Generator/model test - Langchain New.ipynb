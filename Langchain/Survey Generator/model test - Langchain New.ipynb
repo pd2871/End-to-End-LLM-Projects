{
 "cells": [
  {
   "cell_type": "code",
   "execution_count": 80,
   "id": "0f8e6b43",
   "metadata": {},
   "outputs": [],
   "source": [
    "\n",
    "import warnings\n",
    "import pandas as pd\n",
    "from typing import List\n",
    "warnings.filterwarnings(\"ignore\")\n",
    "from langchain.prompts import PromptTemplate\n",
    "from langchain_openai import ChatOpenAI\n",
    "from langchain_openai import ChatOpenAI\n",
    "from langchain_core.prompts import (\n",
    "    PromptTemplate, ChatPromptTemplate\n",
    ")\n",
    "from langchain_community.utils.openai_functions import (\n",
    "    convert_pydantic_to_openai_function,\n",
    ")\n",
    "from langchain_core.pydantic_v1 import BaseModel, Field\n",
    "from langchain_core.output_parsers import StrOutputParser\n",
    "from langchain.output_parsers.openai_functions import JsonKeyOutputFunctionsParser"
   ]
  },
  {
   "cell_type": "code",
   "execution_count": 5,
   "id": "21c1dd97",
   "metadata": {},
   "outputs": [],
   "source": [
    "model_name = 'gpt-4-1106-preview'"
   ]
  },
  {
   "cell_type": "code",
   "execution_count": 148,
   "id": "f82ba8c1",
   "metadata": {},
   "outputs": [],
   "source": [
    "class Answer(BaseModel):\n",
    "    \"\"\"Unique Human-like survey answers told by each person. Each person should have their own unique answers\"\"\"\n",
    "\n",
    "    answer1: str = Field(description=\"This is the human like answer to Question1.\")\n",
    "    answer2: str = Field(description=\"This is the human like answer to Question2.\")\n",
    "    answer3: str = Field(description=\"This is the human like answer to Question3.\")\n",
    "    answer4: str = Field(description=\"This is the human like answer to Question4.\")\n",
    "    traits: str = Field(description=\"This is the trait of the person.\")"
   ]
  },
  {
   "cell_type": "code",
   "execution_count": 149,
   "id": "c4fc7f4a",
   "metadata": {},
   "outputs": [],
   "source": [
    "class Answers(BaseModel):\n",
    "    \"\"\"Human-like survery answers to tell user.\"\"\"\n",
    "\n",
    "    answer: List[Answer]"
   ]
  },
  {
   "cell_type": "code",
   "execution_count": 150,
   "id": "518005cc",
   "metadata": {},
   "outputs": [],
   "source": [
    "openai_functions = [convert_pydantic_to_openai_function(Answers)]"
   ]
  },
  {
   "cell_type": "code",
   "execution_count": 151,
   "id": "a51ced18",
   "metadata": {},
   "outputs": [],
   "source": [
    "parser = JsonKeyOutputFunctionsParser(key_name=\"answer\")"
   ]
  },
  {
   "cell_type": "code",
   "execution_count": 152,
   "id": "dbfabebf",
   "metadata": {},
   "outputs": [],
   "source": [
    "llm = ChatOpenAI(\n",
    "    temperature=1,\n",
    "    model_name=model_name\n",
    ").bind(functions=openai_functions)"
   ]
  },
  {
   "cell_type": "code",
   "execution_count": 176,
   "id": "464a4e0b",
   "metadata": {},
   "outputs": [],
   "source": [
    "system_message = \"\"\"\n",
    "You are a survey answering bot that generates answers like a survey when questions are asked. The answer should be made as if you are a human. \n",
    "Give answers assuming you are a new human with different lifestyles while giving answers.\n",
    "Give answers with new thoughts, new ideas, new moods, you can also choose to answer very rudely, but the main idea is to be random, do not try to repeat same answers since humans have different answers with different answer style.\n",
    "While giving answers, be as creative as possible and try to deviate your answers as much as possible from previous answers.\n",
    "In every answer, change styles of answers, change average sentence lengths of answer, change fk_grade_level of sentences of answer. Make it different from previous answers. But also make sure it is the answer given by a human. So, don't make it seem like it is AI generated. Add both simple and fancy words.\n",
    "In 1 answer, give your answers assuming you are having a worse life, in another answer, give your answers assuming you are having best life. like this, keep on changing the lifestyle of human that you are.\n",
    "Avoid same repeated answers as much as possible.\n",
    "Do no repeat same pattern in each answer. Give short answers sometimes and sometimes long answers, be random.\n",
    "Since, human can give both positive and negative answers, you should follow the same principles.\n",
    "Your answers should be descriptive just like human answers.\n",
    "If the output asks for a monetary output give just the dollar amount and no text before or after it unless prompted to do so. So for example if the answer is $40 just give $40.\n",
    "If the output asks for a decimal output give just the value and no text before or after it unless prompted to do so. So for example if the answer is 40.5 just give 40.5.\n",
    "If you are asked a question like where do you live? Be sure to just answer the place that you live. No text before or after it is needed unless prompted to do so.\n",
    "If the answer is asking for a percentage output just give the value. So if the answer is 45% just give 45%. Do not give any text before or after that unless prompted to do so.\n",
    "\"\"\""
   ]
  },
  {
   "cell_type": "code",
   "execution_count": 177,
   "id": "ffcbdd16",
   "metadata": {},
   "outputs": [],
   "source": [
    "\n",
    "prompt = ChatPromptTemplate.from_messages(\n",
    "    [(\"system\", system_message), (\"user\", \"{input}\")]\n",
    ")"
   ]
  },
  {
   "cell_type": "code",
   "execution_count": 178,
   "id": "29be918b",
   "metadata": {},
   "outputs": [],
   "source": [
    "chain = prompt | llm | parser"
   ]
  },
  {
   "cell_type": "code",
   "execution_count": 179,
   "id": "86628b24",
   "metadata": {},
   "outputs": [],
   "source": [
    "audience = 'Baby Boomers in the United States'\n",
    "traits_and_counts = [\n",
    "    ('Men being currently employed', 5),\n",
    "    ('Women being currently employed', 5)\n",
    "]\n",
    "\n",
    "questions = [\n",
    "    'How happy are you with your life on a scale of 1-5 where 1 is very unhappy and 5 is very happy? (#)',\n",
    "   'What are the top few activities that make you happiest?',\n",
    "    'Why do these activities make you happy?',\n",
    "    'Where do you work? From home, the office, or a combination of both.'\n",
    "    \n",
    "]\n",
    "\n"
   ]
  },
  {
   "cell_type": "code",
   "execution_count": 180,
   "id": "e30a5203",
   "metadata": {},
   "outputs": [
    {
     "name": "stdout",
     "output_type": "stream",
     "text": [
      "Total surveyed:  10\n"
     ]
    }
   ],
   "source": [
    "\n",
    "traits1 = traits_and_counts[0][0]\n",
    "counts1 = traits_and_counts[0][1]\n",
    "traits2 = traits_and_counts[1][0]\n",
    "counts2 = traits_and_counts[1][1]\n",
    "total_surveyed = 0\n",
    "for dta in traits_and_counts:\n",
    "    total_surveyed += dta[1]\n",
    "print(\"Total surveyed: \", total_surveyed)\n"
   ]
  },
  {
   "cell_type": "code",
   "execution_count": 181,
   "id": "a767d763",
   "metadata": {},
   "outputs": [
    {
     "name": "stdout",
     "output_type": "stream",
     "text": [
      "[{'answer1': '5', 'answer2': 'Gardening, reading, and spending time with grandkids.', 'answer3': 'They bring me peace and joy, especially seeing things grow and family bonding.', 'answer4': 'From home', 'traits': 'Men being currently employed'}, {'answer1': '3', 'answer2': 'Golfing, woodworking, and watching old movies.', 'answer3': \"It's my me-time, gets me outside, and I appreciate the craftsmanship and nostalgia.\", 'answer4': 'The office', 'traits': 'Men being currently employed'}, {'answer1': '4', 'answer2': 'Fishing, volunteering, and having barbecues.', 'answer3': \"I feel connected to nature, it's fulfilling to give back, and who doesn't love good food with friends?\", 'answer4': 'Combination of both', 'traits': 'Men being currently employed'}, {'answer1': '2', 'answer2': 'Collecting stamps, playing piano, and chess.', 'answer3': \"They're intellectually stimulating and provide a sense of accomplishment.\", 'answer4': 'The office', 'traits': 'Men being currently employed'}, {'answer1': '4', 'answer2': 'Hiking, painting, and playing bridge.', 'answer3': 'I love the physical challenge, expressing creativity, and the competitive aspect of bridge.', 'answer4': 'From home', 'traits': 'Men being currently employed'}, {'answer1': '4', 'answer2': 'Yoga, book club, and gardening.', 'answer3': 'They help me maintain balance, stimulate my mind, and I revel in the beauty of nature.', 'answer4': 'The office', 'traits': 'Women being currently employed'}, {'answer1': '5', 'answer2': 'Traveling, cooking exotic meals, and dancing.', 'answer3': 'I enjoy cultural experiences, creating tasty dishes, and the joy of movement.', 'answer4': 'From home', 'traits': 'Women being currently employed'}, {'answer1': '3', 'answer2': 'Knitting, watching plays, and teaching my grandkids to bake.', 'answer3': 'These activities are tranquil and provide a way to pass on family traditions.', 'answer4': 'Combination of both', 'traits': 'Women being currently employed'}, {'answer1': '4', 'answer2': 'Volunteering at the animal shelter, running, and painting.', 'answer3': \"I adore animals, cherish the runner's high, and love to capture beauty on canvas.\", 'answer4': 'The office', 'traits': 'Women being currently employed'}, {'answer1': '3', 'answer2': 'Jazzercise, scrapbooking, and wine tasting.', 'answer3': \"They're fun, creative, and offer a chance to socialize and unwind.\", 'answer4': 'From home', 'traits': 'Women being currently employed'}]\n"
     ]
    }
   ],
   "source": [
    "\n",
    "final_data = []\n",
    "\n",
    "input_message = f\"\"\"\n",
    "                Give survey answers from {total_surveyed} people. \n",
    "                All of the surveyed people are {audience}\n",
    "                {counts1} of the surveyed people have this trait: {traits1}\n",
    "                Remaining {counts2} of the surveyed people have this trait: {traits2}\n",
    "                Question1: {questions[0]}\n",
    "                Question2: {questions[1]}\n",
    "                Question3: {questions[2]}\n",
    "                Question4: {questions[3]}\n",
    "                \"\"\"\n",
    "responses = chain.invoke({\"input\": input_message})\n",
    "for ind, data in enumerate(responses):\n",
    "    person_number = ind+1\n",
    "    final_data.append({'Traits': data['traits'], 'Person Number': person_number, f'{questions[0]}': data['answer1'], f'{questions[1]}': data['answer2'],\n",
    "                        f'{questions[2]}': data['answer3'], f'{questions[3]}': data['answer4']})\n",
    "print(responses)"
   ]
  },
  {
   "cell_type": "code",
   "execution_count": 182,
   "id": "1246ed37",
   "metadata": {},
   "outputs": [],
   "source": [
    "df = pd.DataFrame.from_dict(final_data)"
   ]
  },
  {
   "cell_type": "code",
   "execution_count": 183,
   "id": "b04db309",
   "metadata": {},
   "outputs": [
    {
     "data": {
      "text/html": [
       "<div>\n",
       "<style scoped>\n",
       "    .dataframe tbody tr th:only-of-type {\n",
       "        vertical-align: middle;\n",
       "    }\n",
       "\n",
       "    .dataframe tbody tr th {\n",
       "        vertical-align: top;\n",
       "    }\n",
       "\n",
       "    .dataframe thead th {\n",
       "        text-align: right;\n",
       "    }\n",
       "</style>\n",
       "<table border=\"1\" class=\"dataframe\">\n",
       "  <thead>\n",
       "    <tr style=\"text-align: right;\">\n",
       "      <th></th>\n",
       "      <th>Traits</th>\n",
       "      <th>Person Number</th>\n",
       "      <th>How happy are you with your life on a scale of 1-5 where 1 is very unhappy and 5 is very happy? (#)</th>\n",
       "      <th>What are the top few activities that make you happiest?</th>\n",
       "      <th>Why do these activities make you happy?</th>\n",
       "      <th>Where do you work? From home, the office, or a combination of both.</th>\n",
       "    </tr>\n",
       "  </thead>\n",
       "  <tbody>\n",
       "    <tr>\n",
       "      <th>0</th>\n",
       "      <td>Men being currently employed</td>\n",
       "      <td>1</td>\n",
       "      <td>5</td>\n",
       "      <td>Gardening, reading, and spending time with gra...</td>\n",
       "      <td>They bring me peace and joy, especially seeing...</td>\n",
       "      <td>From home</td>\n",
       "    </tr>\n",
       "    <tr>\n",
       "      <th>1</th>\n",
       "      <td>Men being currently employed</td>\n",
       "      <td>2</td>\n",
       "      <td>3</td>\n",
       "      <td>Golfing, woodworking, and watching old movies.</td>\n",
       "      <td>It's my me-time, gets me outside, and I apprec...</td>\n",
       "      <td>The office</td>\n",
       "    </tr>\n",
       "    <tr>\n",
       "      <th>2</th>\n",
       "      <td>Men being currently employed</td>\n",
       "      <td>3</td>\n",
       "      <td>4</td>\n",
       "      <td>Fishing, volunteering, and having barbecues.</td>\n",
       "      <td>I feel connected to nature, it's fulfilling to...</td>\n",
       "      <td>Combination of both</td>\n",
       "    </tr>\n",
       "    <tr>\n",
       "      <th>3</th>\n",
       "      <td>Men being currently employed</td>\n",
       "      <td>4</td>\n",
       "      <td>2</td>\n",
       "      <td>Collecting stamps, playing piano, and chess.</td>\n",
       "      <td>They're intellectually stimulating and provide...</td>\n",
       "      <td>The office</td>\n",
       "    </tr>\n",
       "    <tr>\n",
       "      <th>4</th>\n",
       "      <td>Men being currently employed</td>\n",
       "      <td>5</td>\n",
       "      <td>4</td>\n",
       "      <td>Hiking, painting, and playing bridge.</td>\n",
       "      <td>I love the physical challenge, expressing crea...</td>\n",
       "      <td>From home</td>\n",
       "    </tr>\n",
       "    <tr>\n",
       "      <th>5</th>\n",
       "      <td>Women being currently employed</td>\n",
       "      <td>6</td>\n",
       "      <td>4</td>\n",
       "      <td>Yoga, book club, and gardening.</td>\n",
       "      <td>They help me maintain balance, stimulate my mi...</td>\n",
       "      <td>The office</td>\n",
       "    </tr>\n",
       "    <tr>\n",
       "      <th>6</th>\n",
       "      <td>Women being currently employed</td>\n",
       "      <td>7</td>\n",
       "      <td>5</td>\n",
       "      <td>Traveling, cooking exotic meals, and dancing.</td>\n",
       "      <td>I enjoy cultural experiences, creating tasty d...</td>\n",
       "      <td>From home</td>\n",
       "    </tr>\n",
       "    <tr>\n",
       "      <th>7</th>\n",
       "      <td>Women being currently employed</td>\n",
       "      <td>8</td>\n",
       "      <td>3</td>\n",
       "      <td>Knitting, watching plays, and teaching my gran...</td>\n",
       "      <td>These activities are tranquil and provide a wa...</td>\n",
       "      <td>Combination of both</td>\n",
       "    </tr>\n",
       "    <tr>\n",
       "      <th>8</th>\n",
       "      <td>Women being currently employed</td>\n",
       "      <td>9</td>\n",
       "      <td>4</td>\n",
       "      <td>Volunteering at the animal shelter, running, a...</td>\n",
       "      <td>I adore animals, cherish the runner's high, an...</td>\n",
       "      <td>The office</td>\n",
       "    </tr>\n",
       "    <tr>\n",
       "      <th>9</th>\n",
       "      <td>Women being currently employed</td>\n",
       "      <td>10</td>\n",
       "      <td>3</td>\n",
       "      <td>Jazzercise, scrapbooking, and wine tasting.</td>\n",
       "      <td>They're fun, creative, and offer a chance to s...</td>\n",
       "      <td>From home</td>\n",
       "    </tr>\n",
       "  </tbody>\n",
       "</table>\n",
       "</div>"
      ],
      "text/plain": [
       "                           Traits  Person Number  \\\n",
       "0    Men being currently employed              1   \n",
       "1    Men being currently employed              2   \n",
       "2    Men being currently employed              3   \n",
       "3    Men being currently employed              4   \n",
       "4    Men being currently employed              5   \n",
       "5  Women being currently employed              6   \n",
       "6  Women being currently employed              7   \n",
       "7  Women being currently employed              8   \n",
       "8  Women being currently employed              9   \n",
       "9  Women being currently employed             10   \n",
       "\n",
       "  How happy are you with your life on a scale of 1-5 where 1 is very unhappy and 5 is very happy? (#)  \\\n",
       "0                                                  5                                                    \n",
       "1                                                  3                                                    \n",
       "2                                                  4                                                    \n",
       "3                                                  2                                                    \n",
       "4                                                  4                                                    \n",
       "5                                                  4                                                    \n",
       "6                                                  5                                                    \n",
       "7                                                  3                                                    \n",
       "8                                                  4                                                    \n",
       "9                                                  3                                                    \n",
       "\n",
       "  What are the top few activities that make you happiest?  \\\n",
       "0  Gardening, reading, and spending time with gra...        \n",
       "1     Golfing, woodworking, and watching old movies.        \n",
       "2       Fishing, volunteering, and having barbecues.        \n",
       "3       Collecting stamps, playing piano, and chess.        \n",
       "4              Hiking, painting, and playing bridge.        \n",
       "5                    Yoga, book club, and gardening.        \n",
       "6      Traveling, cooking exotic meals, and dancing.        \n",
       "7  Knitting, watching plays, and teaching my gran...        \n",
       "8  Volunteering at the animal shelter, running, a...        \n",
       "9        Jazzercise, scrapbooking, and wine tasting.        \n",
       "\n",
       "             Why do these activities make you happy?  \\\n",
       "0  They bring me peace and joy, especially seeing...   \n",
       "1  It's my me-time, gets me outside, and I apprec...   \n",
       "2  I feel connected to nature, it's fulfilling to...   \n",
       "3  They're intellectually stimulating and provide...   \n",
       "4  I love the physical challenge, expressing crea...   \n",
       "5  They help me maintain balance, stimulate my mi...   \n",
       "6  I enjoy cultural experiences, creating tasty d...   \n",
       "7  These activities are tranquil and provide a wa...   \n",
       "8  I adore animals, cherish the runner's high, an...   \n",
       "9  They're fun, creative, and offer a chance to s...   \n",
       "\n",
       "  Where do you work? From home, the office, or a combination of both.  \n",
       "0                                          From home                   \n",
       "1                                         The office                   \n",
       "2                                Combination of both                   \n",
       "3                                         The office                   \n",
       "4                                          From home                   \n",
       "5                                         The office                   \n",
       "6                                          From home                   \n",
       "7                                Combination of both                   \n",
       "8                                         The office                   \n",
       "9                                          From home                   "
      ]
     },
     "execution_count": 183,
     "metadata": {},
     "output_type": "execute_result"
    }
   ],
   "source": [
    "df"
   ]
  },
  {
   "cell_type": "code",
   "execution_count": 184,
   "id": "de6741dd",
   "metadata": {},
   "outputs": [],
   "source": [
    "df.to_csv('surveyResults6.csv', index=False)"
   ]
  },
  {
   "cell_type": "code",
   "execution_count": null,
   "id": "6a70cc57",
   "metadata": {},
   "outputs": [],
   "source": []
  },
  {
   "cell_type": "code",
   "execution_count": null,
   "id": "80e9ab18-5fcd-47a3-807e-1d641856236b",
   "metadata": {},
   "outputs": [],
   "source": []
  }
 ],
 "metadata": {
  "kernelspec": {
   "display_name": "Python 3 (ipykernel)",
   "language": "python",
   "name": "python3"
  },
  "language_info": {
   "codemirror_mode": {
    "name": "ipython",
    "version": 3
   },
   "file_extension": ".py",
   "mimetype": "text/x-python",
   "name": "python",
   "nbconvert_exporter": "python",
   "pygments_lexer": "ipython3",
   "version": "3.10.13"
  }
 },
 "nbformat": 4,
 "nbformat_minor": 5
}
