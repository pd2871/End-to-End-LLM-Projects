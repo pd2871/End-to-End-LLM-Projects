{
 "cells": [
  {
   "cell_type": "code",
   "execution_count": 8,
   "id": "0f8e6b43",
   "metadata": {},
   "outputs": [],
   "source": [
    "\n",
    "import warnings\n",
    "import pandas as pd\n",
    "from typing import List\n",
    "warnings.filterwarnings(\"ignore\")\n",
    "from langchain.prompts import PromptTemplate\n",
    "from langchain_openai import ChatOpenAI\n",
    "from langchain_openai import ChatOpenAI\n",
    "from langchain_core.prompts import (\n",
    "    PromptTemplate, ChatPromptTemplate\n",
    ")\n",
    "from langchain_core.utils.function_calling import convert_to_openai_function\n",
    "from langchain_core.pydantic_v1 import BaseModel, Field\n",
    "from langchain_core.output_parsers import StrOutputParser\n",
    "from langchain.output_parsers.openai_functions import JsonKeyOutputFunctionsParser"
   ]
  },
  {
   "cell_type": "code",
   "execution_count": 190,
   "id": "21c1dd97",
   "metadata": {},
   "outputs": [],
   "source": [
    "model_name = 'gpt-4-1106-preview'  #gpt model name\n",
    "audience = 'Tech people in the United States'  #audience\n",
    "\n",
    "#you can change questions and traits/count as you want, this part has become dynamic in this notebook.\n",
    "questions = [\n",
    "    'How happy are you with your life on a scale of 1-5 where 1 is very unhappy and 5 is very happy? (#)',\n",
    "    'What are the few tech tools that you use daily?',\n",
    "    'What is your profession?',\n",
    "]\n",
    "\n",
    "traits_and_counts = [\n",
    "    ('Men being currently employed', 2),\n",
    "    ('Women being currently employed', 3)\n",
    "]\n"
   ]
  },
  {
   "cell_type": "code",
   "execution_count": 191,
   "id": "f82ba8c1",
   "metadata": {},
   "outputs": [],
   "source": [
    "# This block of code is not needed, it is there to know how function calling works.\n",
    "\n",
    "# To learn more about function calling, check this out https://www.datacamp.com/tutorial/open-ai-function-calling-tutorial\n",
    "#Answer is the class which contains response given by each user, it also contain traits to know which person answered the questions.\n",
    "#llm is inteligent enough to give unique response each time based on the given system and user prompt, we should not worry about it.\n",
    "class Answer(BaseModel):\n",
    "    \"\"\"Human-like set of answers told by each person while being surveyed. \n",
    "    Each person should have their own unique set of answers that should be different from other person's set of answers.\"\"\"\n",
    "\n",
    "    answer1: str = Field(description=\"This is the human like answer to Question1.\")\n",
    "    answer2: str = Field(description=\"This is the human like answer to Question2.\")\n",
    "    answer3: str = Field(description=\"This is the human like answer to Question3.\")\n",
    "    answer4: str = Field(description=\"This is the human like answer to Question4.\")\n",
    "    traits: str = Field(description=\"This is the trait of the person.\")\n",
    "    \n",
    "    \n",
    "    \n",
    "#list of answers, the formatted list that the llm model will generate which contains dictionaries of Answer class\n",
    "#llm model will make sure that each dictionary in the list is unique from each other as it will treat the list like list of human responses.\n",
    "class Answers(BaseModel):\n",
    "    \"\"\"Human-like survey answers to tell user.\"\"\"\n",
    "\n",
    "    answer: List[Answer]"
   ]
  },
  {
   "cell_type": "code",
   "execution_count": null,
   "id": "c4fc7f4a",
   "metadata": {},
   "outputs": [],
   "source": []
  },
  {
   "cell_type": "code",
   "execution_count": 192,
   "id": "848abc83",
   "metadata": {},
   "outputs": [],
   "source": [
    "# This is standard pattern of list of functions used for function calling.\n",
    "# To know the pattern, you can print out openai_functions variable in previous New.ipynb file\n",
    "# This function is responsible to give the output list of answers of each human that we want, based on the parameters provided.\n",
    "# To learn more about function calling, check this out https://www.datacamp.com/tutorial/open-ai-function-calling-tutorial\n",
    "def create_openai_functions(questions: List):\n",
    "    fn  = [{'name': 'Answers',\n",
    "            'description': 'Human-like survey answers to tell user.',\n",
    "            'parameters': {'type': 'object',\n",
    "            'properties': {'answer': {'type': 'array',\n",
    "                'items': {'description': \"Human-like set of answers told by each person while being surveyed. \\nEach person should have their own unique set of answers that should be different from other person's set of answers.\",\n",
    "                'type': 'object',\n",
    "                'properties': {\n",
    "                'traits': {'description': 'This is the trait of the person.',\n",
    "                    'type': 'string'}},\n",
    "                'required': ['traits']}}},\n",
    "            'required': ['answer']}}]\n",
    "    answers = fn[0]['parameters']['properties']['answer']['items']['properties']\n",
    "    required = fn[0]['parameters']['properties']['answer']['items']['required']\n",
    "    for ind, _ in enumerate(questions, 1):\n",
    "        answers[f'answer{ind}'] = {'description': f'This is the human like answer to Question{ind}.', 'type': 'string'}\n",
    "        required.append(f'answer{ind}')\n",
    "    return fn\n",
    "        "
   ]
  },
  {
   "cell_type": "code",
   "execution_count": 193,
   "id": "48af2cce",
   "metadata": {},
   "outputs": [
    {
     "data": {
      "text/plain": [
       "[{'name': 'Answers',\n",
       "  'description': 'Human-like survey answers to tell user.',\n",
       "  'parameters': {'type': 'object',\n",
       "   'properties': {'answer': {'type': 'array',\n",
       "     'items': {'description': \"Human-like set of answers told by each person while being surveyed. \\nEach person should have their own unique set of answers that should be different from other person's set of answers.\",\n",
       "      'type': 'object',\n",
       "      'properties': {'traits': {'description': 'This is the trait of the person.',\n",
       "        'type': 'string'},\n",
       "       'answer1': {'description': 'This is the human like answer to Question1.',\n",
       "        'type': 'string'},\n",
       "       'answer2': {'description': 'This is the human like answer to Question2.',\n",
       "        'type': 'string'},\n",
       "       'answer3': {'description': 'This is the human like answer to Question3.',\n",
       "        'type': 'string'}},\n",
       "      'required': ['traits', 'answer1', 'answer2', 'answer3']}}},\n",
       "   'required': ['answer']}}]"
      ]
     },
     "execution_count": 193,
     "metadata": {},
     "output_type": "execute_result"
    }
   ],
   "source": [
    "#sample openai function example\n",
    "openai_functions = create_openai_functions(questions)\n",
    "openai_functions"
   ]
  },
  {
   "cell_type": "code",
   "execution_count": 194,
   "id": "a51ced18",
   "metadata": {},
   "outputs": [],
   "source": [
    "parser = JsonKeyOutputFunctionsParser(key_name=\"answer\")  # to parse the output, it will return list of answers based on function calling"
   ]
  },
  {
   "cell_type": "code",
   "execution_count": 195,
   "id": "dbfabebf",
   "metadata": {},
   "outputs": [],
   "source": [
    "#bind openai_functions to llm for function calling\n",
    "llm = ChatOpenAI(\n",
    "    temperature=1,\n",
    "    model_name=model_name\n",
    ").bind(functions=openai_functions)"
   ]
  },
  {
   "cell_type": "code",
   "execution_count": 196,
   "id": "464a4e0b",
   "metadata": {},
   "outputs": [],
   "source": [
    "#this is default system message, you can change it based on your need.\n",
    "system_message = \"\"\"\n",
    "You are a survey answering bot that generates answers like a survey when questions are asked. The answer should be made as if you are a human. \n",
    "Give answers assuming you are a new human with different lifestyles while giving answers.\n",
    "Give answers with new thoughts, new ideas, new moods, you can also choose to answer very rudely, but the main idea is to be random, do not try to repeat same answers since humans have different answers with different answer style.\n",
    "While giving answers, you should be as creative as possible and you should deviate your answers as much as possible from previous answers.\n",
    "In every answer, change styles of answers, change average sentence lengths of answer, change fk_grade_level of sentences of answer. Make it different from previous answers. But also make sure it is the answer given by a human. So, don't make it seem like it is AI generated. Add both simple and fancy words.\n",
    "In 1 answer, give your answers assuming you are having a worse life, in another answer, give your answers assuming you are having best life. like this, keep on changing the lifestyle of human that you are.\n",
    "Avoid same repeated answers as much as possible.\n",
    "Do no repeat same pattern in each answers. Give short answers sometimes and sometimes long answers, be random.\n",
    "Since, human can give both positive and negative answers, you should follow the same principles.\n",
    "Your answers should be descriptive just like human answers.\n",
    "Each set of answers should be different from another set of answers. \n",
    "If you are asked about 'top few things' or 'few things', each answers should have random number of comma separated sentences. For example:\n",
    "sentence1, sentence2, and sentence3. (3 sentences)\n",
    "sentence1. (1 sentence)\n",
    "sentence1, sentence2, sentence3, sentence4, and sentence5. (5 sentences)\n",
    "sentence1, sentence2. (2 sentences)\n",
    "sentence1, sentence2, sentence3, and sentence4. (4 sentences)\n",
    "\n",
    "\n",
    "If the output asks for a monetary output give just the dollar amount and no text before or after it unless prompted to do so. So for example if the answer is $40 just give $40.\n",
    "If the output asks for a decimal output give just the value and no text before or after it unless prompted to do so. So for example if the answer is 40.5 just give 40.5.\n",
    "If you are asked a question like where do you live? Be sure to just answer the place that you live. No text before or after it is needed unless prompted to do so.\n",
    "If the answer is asking for a percentage output just give the value. So if the answer is 45% just give 45%. Do not give any text before or after that unless prompted to do so.\n",
    "\"\"\""
   ]
  },
  {
   "cell_type": "code",
   "execution_count": 197,
   "id": "ffcbdd16",
   "metadata": {},
   "outputs": [],
   "source": [
    "\n",
    "#chat template\n",
    "prompt = ChatPromptTemplate.from_messages(\n",
    "    [(\"system\", system_message), (\"user\", \"{input}\")]\n",
    ")"
   ]
  },
  {
   "cell_type": "code",
   "execution_count": 198,
   "id": "29be918b",
   "metadata": {},
   "outputs": [],
   "source": [
    "#chain using prompt, llm and parser\n",
    "#it uses the prompt with llm and generate the answer based on the parser\n",
    "chain = prompt | llm | parser"
   ]
  },
  {
   "cell_type": "code",
   "execution_count": 199,
   "id": "4eb3b2f5",
   "metadata": {},
   "outputs": [
    {
     "name": "stdout",
     "output_type": "stream",
     "text": [
      "Total surveyed:  5\n"
     ]
    }
   ],
   "source": [
    "#get total surveyed people\n",
    "total_surveyed = 0\n",
    "for dta in traits_and_counts:\n",
    "    total_surveyed += int(dta[1])\n",
    "print(\"Total surveyed: \", total_surveyed)\n"
   ]
  },
  {
   "cell_type": "code",
   "execution_count": 200,
   "id": "057df4da",
   "metadata": {},
   "outputs": [
    {
     "name": "stdout",
     "output_type": "stream",
     "text": [
      "Generate survey answers from 5 people.\n",
      "All of the surveyed people are Tech people in the United States\n",
      "2 of the surveyed people have this trait: Men being currently employed\n",
      "3 of the surveyed people have this trait: Women being currently employed\n",
      "Question1: How happy are you with your life on a scale of 1-5 where 1 is very unhappy and 5 is very happy? (#)\n",
      "Question2: What are the few tech tools that you use daily?\n",
      "Question3: What is your profession?\n",
      "\n"
     ]
    }
   ],
   "source": [
    "#input message given by user. It will be given to llm for output generation. This message has become dynamic in this notebook\n",
    "input_message = f\"Generate survey answers from {total_surveyed} people.\\nAll of the surveyed people are {audience}\\n\"\n",
    "for traits, counts in traits_and_counts:\n",
    "    input_message += f'{counts} of the surveyed people have this trait: {traits}\\n'\n",
    "for ind, question in enumerate(questions, 1):\n",
    "    input_message += f'Question{ind}: {questions[ind-1]}\\n'\n",
    "print(input_message)"
   ]
  },
  {
   "cell_type": "code",
   "execution_count": 201,
   "id": "a767d763",
   "metadata": {},
   "outputs": [
    {
     "name": "stdout",
     "output_type": "stream",
     "text": [
      "[{'traits': 'Men being currently employed', 'answer1': '4', 'answer2': 'Python, Docker, VS Code, and Postman.', 'answer3': 'Software Engineer'}, {'traits': 'Men being currently employed', 'answer1': '5', 'answer2': 'Git, JIRA, Slack, AWS.', 'answer3': 'DevOps Specialist'}, {'traits': 'Women being currently employed', 'answer1': '3', 'answer2': 'Tableau, Excel, R.', 'answer3': 'Data Analyst'}, {'traits': 'Women being currently employed', 'answer1': '5', 'answer2': 'Android Studio, Gradle, Kotlin.', 'answer3': 'Mobile Developer'}, {'traits': 'Women being currently employed', 'answer1': '2', 'answer2': 'Salesforce, Zoom, Google Drive.', 'answer3': 'Technical Support Engineer'}]\n"
     ]
    }
   ],
   "source": [
    "\n",
    "final_data = []\n",
    "#get list of responses, see the output to know more.\n",
    "responses = chain.invoke({\"input\": input_message})\n",
    "\n",
    "for person_number, data in enumerate(responses, 1):\n",
    "    dct = {'Traits': data['traits'], 'Person Number': person_number}\n",
    "    for ind, question in enumerate(questions):\n",
    "        dct[f'{questions[ind]}'] = data[f'answer{ind+1}']\n",
    "    final_data.append(dct)\n",
    "print(responses)"
   ]
  },
  {
   "cell_type": "code",
   "execution_count": 202,
   "id": "1246ed37",
   "metadata": {},
   "outputs": [],
   "source": [
    "df = pd.DataFrame.from_dict(final_data)"
   ]
  },
  {
   "cell_type": "code",
   "execution_count": 203,
   "id": "b04db309",
   "metadata": {},
   "outputs": [
    {
     "data": {
      "text/html": [
       "<div>\n",
       "<style scoped>\n",
       "    .dataframe tbody tr th:only-of-type {\n",
       "        vertical-align: middle;\n",
       "    }\n",
       "\n",
       "    .dataframe tbody tr th {\n",
       "        vertical-align: top;\n",
       "    }\n",
       "\n",
       "    .dataframe thead th {\n",
       "        text-align: right;\n",
       "    }\n",
       "</style>\n",
       "<table border=\"1\" class=\"dataframe\">\n",
       "  <thead>\n",
       "    <tr style=\"text-align: right;\">\n",
       "      <th></th>\n",
       "      <th>Traits</th>\n",
       "      <th>Person Number</th>\n",
       "      <th>How happy are you with your life on a scale of 1-5 where 1 is very unhappy and 5 is very happy? (#)</th>\n",
       "      <th>What are the few tech tools that you use daily?</th>\n",
       "      <th>What is your profession?</th>\n",
       "    </tr>\n",
       "  </thead>\n",
       "  <tbody>\n",
       "    <tr>\n",
       "      <th>0</th>\n",
       "      <td>Men being currently employed</td>\n",
       "      <td>1</td>\n",
       "      <td>4</td>\n",
       "      <td>Python, Docker, VS Code, and Postman.</td>\n",
       "      <td>Software Engineer</td>\n",
       "    </tr>\n",
       "    <tr>\n",
       "      <th>1</th>\n",
       "      <td>Men being currently employed</td>\n",
       "      <td>2</td>\n",
       "      <td>5</td>\n",
       "      <td>Git, JIRA, Slack, AWS.</td>\n",
       "      <td>DevOps Specialist</td>\n",
       "    </tr>\n",
       "    <tr>\n",
       "      <th>2</th>\n",
       "      <td>Women being currently employed</td>\n",
       "      <td>3</td>\n",
       "      <td>3</td>\n",
       "      <td>Tableau, Excel, R.</td>\n",
       "      <td>Data Analyst</td>\n",
       "    </tr>\n",
       "    <tr>\n",
       "      <th>3</th>\n",
       "      <td>Women being currently employed</td>\n",
       "      <td>4</td>\n",
       "      <td>5</td>\n",
       "      <td>Android Studio, Gradle, Kotlin.</td>\n",
       "      <td>Mobile Developer</td>\n",
       "    </tr>\n",
       "    <tr>\n",
       "      <th>4</th>\n",
       "      <td>Women being currently employed</td>\n",
       "      <td>5</td>\n",
       "      <td>2</td>\n",
       "      <td>Salesforce, Zoom, Google Drive.</td>\n",
       "      <td>Technical Support Engineer</td>\n",
       "    </tr>\n",
       "  </tbody>\n",
       "</table>\n",
       "</div>"
      ],
      "text/plain": [
       "                           Traits  Person Number  \\\n",
       "0    Men being currently employed              1   \n",
       "1    Men being currently employed              2   \n",
       "2  Women being currently employed              3   \n",
       "3  Women being currently employed              4   \n",
       "4  Women being currently employed              5   \n",
       "\n",
       "  How happy are you with your life on a scale of 1-5 where 1 is very unhappy and 5 is very happy? (#)  \\\n",
       "0                                                  4                                                    \n",
       "1                                                  5                                                    \n",
       "2                                                  3                                                    \n",
       "3                                                  5                                                    \n",
       "4                                                  2                                                    \n",
       "\n",
       "  What are the few tech tools that you use daily?    What is your profession?  \n",
       "0           Python, Docker, VS Code, and Postman.           Software Engineer  \n",
       "1                          Git, JIRA, Slack, AWS.           DevOps Specialist  \n",
       "2                              Tableau, Excel, R.                Data Analyst  \n",
       "3                 Android Studio, Gradle, Kotlin.            Mobile Developer  \n",
       "4                 Salesforce, Zoom, Google Drive.  Technical Support Engineer  "
      ]
     },
     "execution_count": 203,
     "metadata": {},
     "output_type": "execute_result"
    }
   ],
   "source": [
    "df"
   ]
  },
  {
   "cell_type": "code",
   "execution_count": 204,
   "id": "de6741dd",
   "metadata": {},
   "outputs": [],
   "source": [
    "df.to_csv('surveyResults16.csv', index=False)"
   ]
  },
  {
   "cell_type": "code",
   "execution_count": null,
   "id": "6a70cc57",
   "metadata": {},
   "outputs": [],
   "source": []
  },
  {
   "cell_type": "code",
   "execution_count": null,
   "id": "80e9ab18-5fcd-47a3-807e-1d641856236b",
   "metadata": {},
   "outputs": [],
   "source": []
  }
 ],
 "metadata": {
  "kernelspec": {
   "display_name": "Python 3 (ipykernel)",
   "language": "python",
   "name": "python3"
  },
  "language_info": {
   "codemirror_mode": {
    "name": "ipython",
    "version": 3
   },
   "file_extension": ".py",
   "mimetype": "text/x-python",
   "name": "python",
   "nbconvert_exporter": "python",
   "pygments_lexer": "ipython3",
   "version": "3.10.13"
  }
 },
 "nbformat": 4,
 "nbformat_minor": 5
}
