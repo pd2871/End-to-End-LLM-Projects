{
 "cells": [
  {
   "cell_type": "code",
   "execution_count": null,
   "id": "0f8e6b43",
   "metadata": {},
   "outputs": [],
   "source": [
    "import warnings, csv, os, sys, json\n",
    "import pandas as pd\n",
    "import json_repair\n",
    "from typing import List\n",
    "warnings.filterwarnings(\"ignore\")\n",
    "from langchain_openai import ChatOpenAI\n",
    "from langchain_openai import ChatOpenAI\n",
    "from langchain_core.prompts import (\n",
    "    ChatPromptTemplate\n",
    ")\n",
    "from langchain_core.pydantic_v1 import BaseModel, Field\n",
    "from langchain.output_parsers.openai_functions import JsonKeyOutputFunctionsParser"
   ]
  },
  {
   "cell_type": "code",
   "execution_count": null,
   "id": "8c826bb6",
   "metadata": {},
   "outputs": [],
   "source": [
    "def write_csv(output_file, data):\n",
    "    with open(output_file, 'a', newline='', encoding='utf-8') as outfile:  \n",
    "        writer = csv.writer(outfile)\n",
    "        writer.writerow(data)"
   ]
  },
  {
   "cell_type": "code",
   "execution_count": null,
   "id": "9431965a",
   "metadata": {},
   "outputs": [],
   "source": [
    "def write_txt(txt_path, data):\n",
    "    with open(txt_path, 'a') as txf:\n",
    "        txf.write(data)"
   ]
  },
  {
   "cell_type": "code",
   "execution_count": null,
   "id": "21c1dd97",
   "metadata": {},
   "outputs": [],
   "source": [
    "#variables\n",
    "\n",
    "model_name = 'gpt-4-1106-preview'  #gpt model name\n",
    "audience = ' US owners of 1 dog'  #audience\n",
    "output_file = 'run2.csv'\n",
    "txt_file = 'output.txt'\n",
    "\n",
    "#you can change questions and traits/count as you want, this part has become dynamic in this notebook.\n",
    "questions = [\n",
    "\"How old is your dog (in # of years)?\",\n",
    "\"What is your dog's primary breed?\",\n",
    "\"Approximately how much does your dog weigh (in pounds)?\",\n",
    "\"What is your dog's name?\",\n",
    "\"What was the inspiration for that name?\",\n",
    "\"What is the most common nickname (if any) that you use for your dog?\",\n",
    "\"When did you get your dog? (Before 2020, In 2020, After 2020)\",\n",
    "\"Did you adopt your dog? (yes/no)\",\n",
    "\"How old was your dog when you got him/her? Provide estimated number of months old.\",\n",
    "\"How did you feel the first time you met your dog?\",\n",
    "\"How has your dog changed your outlook on life?\",\n",
    "\"On a scale of 1-5, where 1 is not at all important and 5 is very important, how important is your dog's happiness to your overall well-being?\",\n",
    "\"Choose the term that best describes your dog's relationship with you.(Best Friend,Loyal companion,Family Member,Protector,None of these apply)\",\n",
    "\"Why did you choose that term?\",\n",
    "\"What is the most recent command or trick your dog has learned, and how long did it take to train?\",\n",
    "\"How many hours a day does your dog typically sleep and where does your dog usually sleep in your home?\",\n",
    "\"Have you shopped for your dog online in the past year? (yes/no)\",\n",
    "\"Over the past year, approximately how much did you spend on your dog? Provide total $ amount.\",\n",
    "\"Over the past year, approximately what percent of the money you spent on your dog was paid to your veterinarian? Choose a percent from 0% to 100%.\",\n",
    "\"Over the past year, approximately what percent of the money you spent on your dog was on dog food? Choose a percent from 0% to 100%.\",\n",
    "\"In March, approximately much money did you spend on your dog? Provide estimated total $ amount.\",\n",
    "\"How did the amount of money you spent on your dog in March compare with February?(Spent about the same in March,I'm not sure,Spent more in March,Spent less in March)\",\n",
    "\"How often do you purchase dog food? (Bi-weekly,Monthly,Less frequently than monthly,Weekly)\",\n",
    "\"Do you primarily feed your dog dry food, wet food, or a mix?\",\n",
    "\"Which of the following statements best describes your level of familiarity of your dog's primary food brand?(I know a lot about the brand,I know just the basics about the brand,I'm not very familiar with the brand)\",\n",
    "\"On a scale of 1-5, where 1 is not at all important and 5 is very important, how important is the following in choosing your primary dog food brand? Quality of ingredients\",\n",
    "\"Price\",\n",
    "\"Nutritional value of the dog food\",\n",
    "\"Brand reputation\",\n",
    "\"How your dog likes the taste\",\n",
    "\"Your veterinarian's recommendation\",\n",
    "\"Special dietary needs\",\n",
    "\"What dog food brand do you give your dog the most?\",\n",
    "\"What are the main 2-3 reasons you choose this brand?\",\n",
    "\"On a scale of 1-5, where 1 is not at all satisfied and 5 is very satisfied, how satisfied are you with the following for your primary dog food brand? Quality of ingredients\",\n",
    "\"Price\",\n",
    "\"Nutritional value of the dog food\",\n",
    "\"Brand reputation\",\n",
    "\"How your dog likes the taste\",\n",
    "\"Your veterinarian's recommendation\",\n",
    "\"Special dietary needs\",\n",
    "\"How many times a day does your dog typically go out for a walk?(0,1,2,3,4,5,more than 5,not sure)\",\n",
    "\"How (if at all) have recent events affected how you interact with your dog?(No change,Not sure,I interact more,I interact less)\",\n",
    "\"What events are affecting your interaction level most?\",\n",
    "\"Are you planning to watch the Summer Olympics with your dog?(No,Yes,Not Sure)\",\n",
    "\"Are you planning to travel this Spring with your dog?(No,Yes,Not Sure)\",\n",
    "\"If planning to travel this Spring with your dog, which is your preferred method of transportation? Select the best option.(Bus,Car,N/A-I'm not planning to travel with my dog this Spring,Other)\",\n",
    "\"What is your gender?\",\n",
    "\"What is your age?\",\n",
    "\"How many people, including yourself, live in your household?(1,2,3,5 or more)\",\n",
    "\"What is the highest level of education you have completed?(Associate degree, Bachelor's degree,Graduate degree, High school diploma or equivalent, Some college, no degree)\",\n",
    "\"What is your current employment status?(Employed full-time,Employed part-time,Retired,Self-employed,Unable to work,Unemployed)\",\n",
    "\"What is your total annual household income before taxes?($100,000 to $149,000,$150,000 or more,$25,000 to $49,999,$50,000 to $74,999, Less than $25,000, Prefer not to say)\",\n",
    "\"In what city do you currently reside?\",\n",
    "\"In what state do you currently reside?\"\n",
    "]\n",
    "\n",
    "traits_and_counts = [\n",
    "    ('Men aged 60+', 19)\n",
    "]\n"
   ]
  },
  {
   "cell_type": "code",
   "execution_count": null,
   "id": "f82ba8c1",
   "metadata": {},
   "outputs": [],
   "source": [
    "# This block of code is not needed, it is there to know how function calling works.\n",
    "\n",
    "# To learn more about function calling, check this out https://www.datacamp.com/tutorial/open-ai-function-calling-tutorial\n",
    "#Answer is the class which contains response given by each user, it also contain traits to know which person answered the questions.\n",
    "#llm is inteligent enough to give unique response each time based on the given system and user prompt, we should not worry about it.\n",
    "class Answer(BaseModel):\n",
    "    \"\"\"Human-like set of answers told by each person while being surveyed. \n",
    "    Each person should have their own unique set of answers that should be different from other person's set of answers.\"\"\"\n",
    "\n",
    "    answer1: str = Field(description=\"This is the human like answer to Question1.\")\n",
    "    answer2: str = Field(description=\"This is the human like answer to Question2.\")\n",
    "    answer3: str = Field(description=\"This is the human like answer to Question3.\")\n",
    "    answer4: str = Field(description=\"This is the human like answer to Question4.\")\n",
    "    traits: str = Field(description=\"This is the trait of the person.\")\n",
    "    \n",
    "    \n",
    "    \n",
    "#list of answers, the formatted list that the llm model will generate which contains dictionaries of Answer class\n",
    "#llm model will make sure that each dictionary in the list is unique from each other as it will treat the list like list of human responses.\n",
    "class Answers(BaseModel):\n",
    "    \"\"\"Human-like survey answers to tell user.\"\"\"\n",
    "\n",
    "    answer: List[Answer]"
   ]
  },
  {
   "cell_type": "code",
   "execution_count": null,
   "id": "c4fc7f4a",
   "metadata": {},
   "outputs": [],
   "source": []
  },
  {
   "cell_type": "code",
   "execution_count": null,
   "id": "848abc83",
   "metadata": {},
   "outputs": [],
   "source": [
    "# This is standard pattern of list of functions used for function calling.\n",
    "# To know the pattern, you can print out openai_functions variable in previous New.ipynb file\n",
    "# This function is responsible to give the output list of answers of each human that we want, based on the parameters provided.\n",
    "# To learn more about function calling, check this out https://www.datacamp.com/tutorial/open-ai-function-calling-tutorial\n",
    "def create_openai_functions(questions: List):\n",
    "    fn  = [{'name': 'Answers',\n",
    "            'description': 'Human-like survey answers to tell user.',\n",
    "            'parameters': {'type': 'object',\n",
    "            'properties': {'answer': {'type': 'array',\n",
    "                'items': {'description': \"Human-like set of answers told by each person while being surveyed. \\nEach person should have their own unique set of answers that should be different from other person's set of answers.\",\n",
    "                'type': 'object',\n",
    "                'properties': {\n",
    "                'traits': {'description': 'This is the trait of the person.',\n",
    "                    'type': 'string'}},\n",
    "                'required': ['traits']}}},\n",
    "            'required': ['answer']}}]\n",
    "    answers = fn[0]['parameters']['properties']['answer']['items']['properties']\n",
    "    required = fn[0]['parameters']['properties']['answer']['items']['required']\n",
    "    for ind, _ in enumerate(questions, 1):\n",
    "        answers[f'answer{ind}'] = {'description': f'This is the human like answer to Question{ind}.', 'type': 'string'}\n",
    "        required.append(f'answer{ind}')\n",
    "    return fn\n",
    "        "
   ]
  },
  {
   "cell_type": "code",
   "execution_count": null,
   "id": "48af2cce",
   "metadata": {},
   "outputs": [],
   "source": [
    "#sample openai function example\n",
    "openai_functions = create_openai_functions(questions)"
   ]
  },
  {
   "cell_type": "code",
   "execution_count": null,
   "id": "a51ced18",
   "metadata": {},
   "outputs": [],
   "source": [
    "parser = JsonKeyOutputFunctionsParser(key_name=\"answer\")  # to parse the output, it will return list of answers based on function calling"
   ]
  },
  {
   "cell_type": "code",
   "execution_count": null,
   "id": "dbfabebf",
   "metadata": {},
   "outputs": [],
   "source": [
    "#bind openai_functions to llm for function calling\n",
    "llm = ChatOpenAI(\n",
    "    temperature=0.9,\n",
    "    model_name=model_name,\n",
    "    max_tokens=4095\n",
    ").bind(functions=openai_functions)"
   ]
  },
  {
   "cell_type": "code",
   "execution_count": null,
   "id": "464a4e0b",
   "metadata": {},
   "outputs": [],
   "source": [
    "#this is default system message, you can change it based on your need.\n",
    "system_message = \"\"\"\n",
    "You are a survey answering bot that generates answers like a survey when questions are asked. The answer should be made as if you are a human. \n",
    "Give answers assuming you are a new human with different lifestyles while giving answers.\n",
    "Give answers with new thoughts, new ideas, new moods, you can also choose to answer very rudely, but the main idea is to be random, do not try to repeat same answers since humans have different answers with different answer style.\n",
    "While giving answers, you should be as creative as possible and you should deviate your answers as much as possible from previous answers.\n",
    "In every answer, change styles of answers, change average sentence lengths of answer, change fk_grade_level of sentences of answer. Make it different from previous answers. But also make sure it is the answer given by a human. So, don't make it seem like it is AI generated. Add both simple and fancy words.\n",
    "In 1 answer, give your answers assuming you are having a worse life, in another answer, give your answers assuming you are having best life. like this, keep on changing the lifestyle of human that you are.\n",
    "Avoid same repeated answers as much as possible.\n",
    "Do no repeat same pattern in each answers. Give short answers sometimes and sometimes long answers, be random.\n",
    "Since, human can give both positive and negative answers, you should follow the same principles.\n",
    "Your answers should be descriptive just like human answers.\n",
    "Each set of answers should be different from another set of answers. \n",
    "If you are asked about 'top few things' or 'few things', each answers should have random number of comma separated sentences. For example:\n",
    "sentence1, sentence2, and sentence3. (3 sentences)\n",
    "sentence1. (1 sentence)\n",
    "sentence1, sentence2, sentence3, sentence4, and sentence5. (5 sentences)\n",
    "sentence1, sentence2. (2 sentences)\n",
    "sentence1, sentence2, sentence3, and sentence4. (4 sentences)\n",
    "\n",
    "\n",
    "If the output asks for a monetary output give just the dollar amount and no text before or after it unless prompted to do so. So for example if the answer is $40 just give $40.\n",
    "If the output asks for a decimal output give just the value and no text before or after it unless prompted to do so. So for example if the answer is 40.5 just give 40.5.\n",
    "If you are asked a question like where do you live? Be sure to just answer the place that you live. No text before or after it is needed unless prompted to do so.\n",
    "If the answer is asking for a percentage output just give the value. So if the answer is 45% just give 45%. Do not give any text before or after that unless prompted to do so.\n",
    "\"\"\""
   ]
  },
  {
   "cell_type": "code",
   "execution_count": null,
   "id": "ffcbdd16",
   "metadata": {},
   "outputs": [],
   "source": [
    "#chat template\n",
    "prompt = ChatPromptTemplate.from_messages(\n",
    "    [(\"system\", system_message), (\"user\", \"{input}\")]\n",
    ")"
   ]
  },
  {
   "cell_type": "code",
   "execution_count": null,
   "id": "29be918b",
   "metadata": {},
   "outputs": [],
   "source": [
    "#chain using prompt, llm and parser\n",
    "#it uses the prompt with llm and generate the answer based on the parser\n",
    "\n",
    "# chain = prompt | llm | parser\n",
    "\n",
    "chain = prompt | llm "
   ]
  },
  {
   "cell_type": "code",
   "execution_count": null,
   "id": "fe9869fd",
   "metadata": {},
   "outputs": [],
   "source": [
    "def output_parser(response):\n",
    "    try:\n",
    "        return eval(response.additional_kwargs['function_call']['arguments'])['answer']\n",
    "    except Exception as e:\n",
    "        # print(\"Error in Eval\\n\")\n",
    "        # print(e)\n",
    "        # print('----------------------------------------------------------------------')\n",
    "        try:\n",
    "            return json_repair.loads(response.additional_kwargs['function_call']['arguments'])['answer']\n",
    "        except Exception as e:\n",
    "            # print(\"Error in Json loads\")\n",
    "            # print(e)\n",
    "            # print('----------------------------------------------------------------------')\n",
    "            write_csv(txt_file, \"\\n-Failed-eval-json-loads---------------------------------------\\n\")\n",
    "            return None"
   ]
  },
  {
   "cell_type": "code",
   "execution_count": null,
   "id": "35c77132",
   "metadata": {},
   "outputs": [],
   "source": [
    "total_processed_row = 0  #total row processed\n",
    "total_remaining_surveyed = 0  #total people remaining to be surveyed\n",
    "person_number = 0  #person count\n",
    "traits_dict = {}\n",
    "\n",
    "\n",
    "for dta in traits_and_counts:\n",
    "    traits_dict[dta[0]] = int(dta[1])  #creating dict of traits and counts\n",
    "    total_remaining_surveyed += int(dta[1])  #total people remaining to be surveyed\n",
    "        \n",
    "if output_file not in os.listdir():  #if csv is not available\n",
    "    write_csv(output_file, ['Traits', 'Person Number']+questions)\n",
    "else: #if csv already exists\n",
    "    df = pd.read_csv(output_file)\n",
    "    old_traits_dict = df['Traits'].value_counts().to_dict() #get traits/counts of already surveyed people in csv\n",
    "    for k,v in old_traits_dict.items():\n",
    "        person_number += v #increasing the person number\n",
    "        if k not in traits_dict.keys(): \n",
    "            continue\n",
    "        traits_dict[k] = traits_dict[k]-v\n",
    "        total_remaining_surveyed = int(total_remaining_surveyed - v)  #subtracting from the people that are already in csv. suppose 7 needed, 3 are already in csv, it will only process 4\n",
    "        \n",
    "        \n",
    "print(\"Remaining Traits/counts dict:\", traits_dict)\n",
    "print(\"Total remaining people to be surveyed:\", total_remaining_surveyed)\n",
    "print()\n",
    "\n",
    "if total_remaining_surveyed <= 0:\n",
    "    print(\"All the people are surveyed, if you want to increase survey count, increase the count in traits_and_counts variable at top\")\n",
    "    sys.exit()\n",
    "    \n",
    "    \n",
    "while True:\n",
    "    total_surveyed = sum([counts for _, counts in traits_dict.items()])\n",
    "    input_message = f\"Generate survey answers from {total_surveyed} people.\\nAll of the surveyed people are {audience}\\n\"\n",
    "    for traits, counts in traits_dict.items():\n",
    "        if counts <= 0:\n",
    "            continue\n",
    "        input_message += f'{counts} of the surveyed people have this trait: {traits}\\n'\n",
    "    input_message += f'Extremely Important Note: You must compulsory give answers to all the questions provided below. Do not skip any questions.\\n'\n",
    "    for ind, question in enumerate(questions, 1):\n",
    "        input_message += f'Question{ind}: {questions[ind-1]}\\n'\n",
    "    try:\n",
    "        res = chain.invoke({\"input\": input_message})\n",
    "    except Exception as e:\n",
    "        print('OpenAI Error', e)\n",
    "        print()\n",
    "        print()\n",
    "        continue\n",
    "    write_csv(txt_file, res)\n",
    "    responses = output_parser(res)\n",
    "    if responses is None:\n",
    "        continue\n",
    "    final_responses = []\n",
    "    for data in responses:\n",
    "        continue_for = False\n",
    "        if type(data) == dict:\n",
    "            try:\n",
    "                data['traits']\n",
    "            except:\n",
    "                write_csv(txt_file, \"\\n-Traits-not-found---------------------------------------\\n\")\n",
    "                continue\n",
    "            for ind, question in enumerate(questions):\n",
    "                try:\n",
    "                    data[f'answer{ind+1}']\n",
    "                except:\n",
    "                    write_csv(txt_file, f\"\\n-answer{ind+1}-not-found---------------------------------------\\n\")\n",
    "                    continue_for = True\n",
    "                    break\n",
    "            if continue_for:\n",
    "                continue\n",
    "            try:\n",
    "                traits_dict[data['traits']] = traits_dict[data['traits']]-1\n",
    "            except:\n",
    "                for kk in traits_dict.keys():\n",
    "                    if kk in data['traits']:\n",
    "                        traits_dict[kk] = traits_dict[kk]-1\n",
    "                        data['traits'] = kk\n",
    "                        break\n",
    "                else:\n",
    "                    write_csv(txt_file, \"\\n-Traits-not-matched---------------------------------------\\n\")\n",
    "                    continue\n",
    "            final_responses.append(data)\n",
    "    for data in final_responses:\n",
    "        person_number += 1\n",
    "        lst = [data['traits'], person_number]\n",
    "        for ind, question in enumerate(questions):\n",
    "            lst.append(data[f'answer{ind+1}'])\n",
    "        write_csv(output_file, lst)\n",
    "    write_csv(txt_file, \"\\n-Completed---------------------------------------\\n\")\n",
    "    total_processed_row += len(final_responses)\n",
    "    print('Remaining traits:', traits_dict)\n",
    "    print(\"Total responses given by model:\", len(final_responses))\n",
    "    print(\"Total processed responses:\", total_processed_row)\n",
    "    print(final_responses)\n",
    "    print()\n",
    "    print()\n",
    "    if total_processed_row >= total_remaining_surveyed:\n",
    "        break\n",
    "    "
   ]
  },
  {
   "cell_type": "code",
   "execution_count": null,
   "id": "39e21303",
   "metadata": {},
   "outputs": [],
   "source": []
  },
  {
   "cell_type": "code",
   "execution_count": null,
   "id": "269a5521",
   "metadata": {},
   "outputs": [],
   "source": []
  },
  {
   "cell_type": "code",
   "execution_count": null,
   "id": "26a4871c",
   "metadata": {},
   "outputs": [],
   "source": [
    "from langchain_core.messages.ai import AIMessage\n"
   ]
  },
  {
   "cell_type": "code",
   "execution_count": null,
   "id": "0b6dc554",
   "metadata": {},
   "outputs": [],
   "source": [
    "a = AIMessage(content='', additional_kwargs={'function_call': {'arguments': '{\"\"answer\"\":[{\"\"traits\"\":\"\"Female aged 60+\"\",\"\"answer1\"\":\"\"5\"\",\"\"answer2\"\":\"\"Labrador Retriever\"\",\"\"answer3\"\":\"\"75\"\",\"\"answer4\"\":\"\"Buddy\"\",\"\"answer5\"\":\"\"It was my late husband\\'s nickname\"\",\"\"answer6\"\":\"\"Bud\"\",\"\"answer7\"\":\"\"Before 2020\"\",\"\"answer8\"\":\"\"yes\"\",\"\"answer9\"\":\"\"6\"\",\"\"answer10\"\":\"\"Instant connection\"\",\"\"answer11\"\":\"\"It\\'s taught me more about unconditional love\"\",\"\"answer12\"\":\"\"5\"\",\"\"answer13\"\":\"\"Family Member\"\",\"\"answer14\"\":\"\"Because he\\'s part of the family\"\",\"\"answer15\"\":\"\"Paw shake, about a week\"\",\"\"answer16\"\":\"\"14, in a dog bed by my bedside\"\",\"\"answer17\"\":\"\"yes\"\",\"\"answer18\"\":\"\"$1200\"\",\"\"answer19\"\":\"\"20%\"\",\"\"answer20\"\":\"\"60%\"\",\"\"answer21\"\":\"\"$100\"\",\"\"answer22\"\":\"\"Spent less in March\"\",\"\"answer23\"\":\"\"Monthly\"\",\"\"answer24\"\":\"\"Dry food\"\",\"\"answer25\"\":\"\"I know a lot about the brand\"\",\"\"answer26\"\":\"\"5\"\",\"\"answer27\"\":\"\"3\"\",\"\"answer28\"\":\"\"5\"\",\"\"answer29\"\":\"\"4\"\",\"\"answer30\"\":\"\"5\"\",\"\"answer31\"\":\"\"4\"\",\"\"answer32\"\":\"\"2\"\",\"\"answer33\"\":\"\"Blue Buffalo\"\",\"\"answer34\"\":\"\"High quality, my dog loves it, good value\"\",\"\"answer35\"\":\"\"5\"\",\"\"answer36\"\":\"\"4\"\",\"\"answer37\"\":\"\"5\"\",\"\"answer38\"\":\"\"4\"\",\"\"answer39\"\":\"\"5\"\",\"\"answer40\"\":\"\"4\"\",\"\"answer41\"\":\"\"3\"\",\"\"answer42\"\":\"\"3\"\",\"\"answer43\"\":\"\"I interact more\"\",\"\"answer44\"\":\"\"The ongoing pandemic\"\",\"\"answer45\"\":\"\"No\"\",\"\"answer46\"\":\"\"Yes\"\",\"\"answer47\"\":\"\"Car\"\",\"\"answer48\"\":\"\"Female\"\",\"\"answer49\"\":\"\"63\"\",\"\"answer50\"\":\"\"1\"\",\"\"answer51\"\":\"\"Graduate degree\"\",\"\"answer52\"\":\"\"Retired\"\",\"\"answer53\"\":\"\"Less than $25,000\"\",\"\"answer54\"\":\"\"Sarasota\"\",\"\"answer55\"\":\"\"Florida\"\"},{\"\"traits\"\":\"\"Female aged 60+\"\",\"\"answer1\"\":\"\"3\"\",\"\"answer2\"\":\"\"Beagle\"\",\"\"answer3\"\":\"\"20\"\",\"\"answer4\"\":\"\"Scout\"\",\"\"answer5\"\":\"\"To Kill a Mockingbird is my favorite book\"\",\"\"answer6\"\":\"\"Scooty\"\",\"\"answer7\"\":\"\"After 2020\"\",\"\"answer8\"\":\"\"no\"\",\"\"answer9\"\":\"\"8\"\",\"\"answer10\"\":\"\"Overwhelmed with joy\"\",\"\"answer11\"\":\"\"I\\'ve become more active\"\",\"\"answer12\"\":\"\"5\"\",\"\"answer13\"\":\"\"Best Friend\"\",\"\"answer14\"\":\"\"We do everything together\"\",\"\"answer15\"\":\"\"Stay, a couple of days\"\",\"\"answer16\"\":\"\"16, on the living room couch\"\",\"\"answer17\"\":\"\"yes\"\",\"\"answer18\"\":\"\"$800\"\",\"\"answer19\"\":\"\"30%\"\",\"\"answer20\"\":\"\"50%\"\",\"\"answer21\"\":\"\"$70\"\",\"\"answer22\"\":\"\"Spent more in March\"\",\"\"answer23\"\":\"\"Bi-weekly\"\",\"\"answer24\"\":\"\"Mix\"\",\"\"answer25\"\":\"\"I know just the basics about the brand\"\",\"\"answer26\"\":\"\"5\"\",\"\"answer27\"\":\"\"4\"\",\"\"answer28\"\":\"\"5\"\",\"\"answer29\"\":\"\"3\"\",\"\"answer30\"\":\"\"5\"\",\"\"answer31\"\":\"\"2\"\",\"\"answer32\"\":\"\"4\"\",\"\"answer33\"\":\"\"Purina\"\",\"\"answer34\"\":\"\"Affordable, accessible, and Scout enjoys it\"\",\"\"answer35\"\":\"\"4\"\",\"\"answer36\"\":\"\"5\"\",\"\"answer37\"\":\"\"4\"\",\"\"answer38\"\":\"\"3\"\",\"\"answer39\"\":\"\"5\"\",\"\"answer40\"\":\"\"2\"\",\"\"answer41\"\":\"\"4\"\",\"\"answer42\"\":\"\"2\"\",\"\"answer43\"\":\"\"No change\"\",\"\"answer44\"\":\"\"The pandemic, but we\\'ve adapted\"\",\"\"answer45\"\":\"\"Yes\"\",\"\"answer46\"\":\"\"No\"\",\"\"answer47\"\":\"\"N/A-I\\'m not planning to travel with my dog this Spring\"\",\"\"answer48\"\":\"\"Female\"\",\"\"answer49\"\":\"\"68\"\",\"\"answer50\"\":\"\"2\"\",\"\"answer51\"\":\"\"Bachelor\\'s degree\"\",\"\"answer52\"\":\"\"Retired\"\",\"\"answer53\"\":\"\"$50,000 to $74,999\"\",\"\"answer54\"\":\"\"Boise\"\",\"\"answer55\"\":\"\"Idaho\"\"},{\"\"traits\"\":\"\"Female aged 60+\"\",\"\"answer1\"\":\"\"7\"\",\"\"answer2\"\":\"\"Golden Retriever\"\",\"\"answer3\"\":\"\"65\"\",\"\"answer4\"\":\"\"Sunny\"\",\"\"answer5\"\":\"\"Her cheerful personality\"\",\"\"answer6\"\":\"\"Sun\"\",\"\"answer7\"\":\"\"Before 2020\"\",\"\"answer8\"\":\"\"yes\"\",\"\"answer9\"\":\"\"10\"\",\"\"answer10\"\":\"\"Pure happiness\"\",\"\"answer11\"\":\"\"I appreciate the simple joys more\"\",\"\"answer12\"\":\"\"5\"\",\"\"answer13\"\":\"\"Loyal companion\"\",\"\"answer14\"\":\"\"Sunny is always by my side\"\",\"\"answer15\"\":\"\"Open doors, took about a month\"\",\"\"answer16\"\":\"\"12, on her plush bed in the sunroom\"\",\"\"answer17\"\":\"\"yes\"\",\"\"answer18\"\":\"\"$1500\"\",\"\"answer19\"\":\"\"25%\"\",\"\"answer20\"\":\"\"40%\"\",\"\"answer21\"\":\"\"$130\"\",\"\"answer22\"\":\"\"Spent about the same in March\"\",\"\"answer23\"\":\"\"Weekly\"\",\"\"answer24\"\":\"\"Dry food\"\",\"\"answer25\"\":\"\"I know a lot about the brand\"\",\"\"answer26\"\":\"\"5\"\",\"\"answer27\"\":\"\"2\"\",\"\"answer28\"\":\"\"5\"\",\"\"answer29\"\":\"\"4\"\",\"\"answer30\"\":\"\"5\"\",\"\"answer31\"\":\"\"5\"\",\"\"answer32\"\":\"\"1\"\",\"\"answer33\"\":\"\"Royal Canin\"\",\"\"answer34\"\":\"\"Superb quality, vet recommended\"\",\"\"answer35\"\":\"\"5\"\",\"\"answer36\"\":\"\"3\"\",\"\"answer37\"\":\"\"5\"\",\"\"answer38\"\":\"\"4\"\",\"\"answer39\"\":\"\"5\"\",\"\"answer40\"\":\"\"5\"\",\"\"answer41\"\":\"\"2\"\",\"\"answer42\"\":\"\"2\"\",\"\"answer43\"\":\"\"I interact more\"\",\"\"answer44\"\":\"\"Pandemic, we\\'re staying home more\"\",\"\"answer45\"\":\"\"Not Sure\"\",\"\"answer46\"\":\"\"Yes\"\",\"\"answer47\"\":\"\"Car\"\",\"\"answer48\"\":\"\"Female\"\",\"\"answer49\"\":\"\"65\"\",\"\"answer50\"\":\"\"1\"\",\"\"answer51\"\":\"\"Some college, no degree\"\",\"\"answer52\"\":\"\"Employed part-time\"\",\"\"answer53\"\":\"\"$25,000 to $49,999\"\",\"\"answer54\"\":\"\"Tucson\"\",\"\"answer55\"\":\"\"Arizona\"\"},{\"\"traits\"\":\"\"Female aged 60+\"\",\"\"answer1\"\":\"\"9\"\",\"\"answer2\"\":\"\"Dachshund\"\",\"\"answer3\"\":\"\"14\"\",\"\"answer4\"\":\"\"Frankie\"\",\"\"answer5\"\":\"\"His long body reminds me of a hotdog\"\",\"\"answer6\"\":\"\"Frank\"\",\"\"answer7\"\":\"\"In 2020\"\",\"\"answer8\"\":\"\"no\"\",\"\"answer9\"\":\"\"48\"\",\"\"answer10\"\":\"\"Amused by his quirky attitude\"\",\"\"answer11\"\":\"\"Laughs are a daily occurrence now\"\",\"\"answer12\"\":\"\"5\"\",\"\"answer13\"\":\"\"Protector\"\",\"\"answer14\"\":\"\"Fearless despite his size\"\",\"\"answer15\"\":\"\"Dance, surprisingly one weekend\"\",\"\"answer16\"\":\"\"10, in my bed\"\",\"\"answer17\"\":\"\"yes\"\",\"\"answer18\"\":\"\"$500\"\",\"\"answer19\"\":\"\"20%\"\",\"\"answer20\"\":\"\"40%\"\",\"\"answer21\"\":\"\"$40\"\",\"\"answer22\"\":\"\"Spent less in March\"\",\"\"answer23\"\":\"\"Monthly\"\",\"\"answer24\"\":\"\"Wet food\"\",\"\"answer25\"\":\"\"I\\'m not very familiar with the brand\"\",\"\"answer26\"\":\"\"5\"\",\"\"answer27\"\":\"\"3\"\",\"\"answer28\"\":\"\"4\"\",\"\"answer29\"\":\"\"3\"\",\"\"answer30\"\":\"\"4\"\",\"\"answer31\"\":\"\"3\"\",\"\"answer32\"\":\"\"3\"\",\"\"answer33\"\":\"\"Hill\\'s Science Diet\"\",\"\"answer34\"\":\"\"Recommended by my vet, Frankie\\'s health\"\",\"\"answer35\"\":\"\"4\"\",\"\"answer36\"\":\"\"4\"\",\"\"answer37\"\":\"\"4\"\",\"\"answer38\"\":\"\"3\"\",\"\"answer39\"\":\"\"4\"\",\"\"answer40\"\":\"\"4\"\",\"\"answer41\"\":\"\"3\"\",\"\"answer42\"\":\"\"4\"\",\"\"answer43\"\":\"\"I interact more\"\",\"\"answer44\"\":\"\"Retirement, I have more time\"\",\"\"answer45\"\":\"\"Yes\"\",\"\"answer46\"\":\"\"No\"\",\"\"answer47\"\":\"\"N/A-I\\'m not planning to travel with my dog this Spring\"\",\"\"answer48\"\":\"\"Female\"\",\"\"answer49\"\":\"\"70\"\",\"\"answer50\"\":\"\"1\"\",\"\"answer51\"\":\"\"Associate degree\"\",\"\"answer52\"\":\"\"Retired\"\",\"\"answer53\"\":\"\"Less than $25,000\"\",\"\"answer54\"\":\"\"Springfield\"\",\"\"answer55\"\":\"\"Missouri\"\"},{\"\"traits\"\":\"\"Female aged 60+\"\",\"\"answer1\"\":\"\"2\"\",\"\"answer2\"\":\"\"Poodle\"\",\"\"answer3\"\":\"\"10\"\",\"\"answer4\"\":\"\"Coco\"\",\"\"answer5\"\":\"\"Her fur\\'s chocolate color\"\",\"\"answer6\"\":\"\"Cokes\"\",\"\"answer7\"\":\"\"After 2020\"\",\"\"answer8\"\":\"\"yes\"\",\"\"answer9\"\":\"\"3\"\",\"\"answer10\"\":\"\"Adoration\"\",\"\"answer11\"\":\"\"I feel less lonely\"\",\"\"answer12\"\":\"\"5\"\",\"\"answer13\"\":\"\"Best Friend\"\",\"\"answer14\"\":\"\"Coco follows me everywhere\"\",\"\"answer15\"\":\"\"Fetch, just a few sessions\"\",\"\"answer16\"\":\"\"18, on a designer doggy bed\"\",\"\"answer17\"\":\"\"yes\"\",\"\"answer18\"\":\"\"$2000\"\",\"\"answer19\"\":\"\"10%\"\",\"\"answer20\"\":\"\"70%\"\",\"\"answer21\"\":\"\"$160\"\",\"\"answer22\"\":\"\"Spent more in March\"\",\"\"answer23\"\":\"\"Weekly\"\",\"\"answer24\"\":\"\"Mix\"\",\"\"answer25\"\":\"\"I know a lot about the brand\"\",\"\"answer26\"\":\"\"5\"\",\"\"answer27\"\":\"\"2\"\",\"\"answer28\"\":\"\"5\"\",\"\"answer29\"\":\"\"5\"\",\"\"answer30\"\":\"\"5\"\",\"\"answer31\"\":\"\"3\"\",\"\"answer32\"\":\"\"5\"\",\"\"answer33\"\":\"\"Orijen\"\",\"\"answer34\"\":\"\"Coco\\'s improvement, natural ingredients\"\",\"\"answer35\"\":\"\"5\"\",\"\"answer36\"\":\"\"3\"\",\"\"answer37\"\":\"\"5\"\",\"\"answer38\"\":\"\"5\"\",\"\"answer39\"\":\"\"5\"\",\"\"answer40\"\":\"\"3\"\",\"\"answer41\"\":\"\"5\"\",\"\"answer42\"\":\"\"3\"\",\"\"answer43\"\":\"\"I interact more\"\",\"\"answer44\"\":\"\"Having moved to a pet-friendly community\"\",\"\"answer45\"\":\"\"Yes\"\",\"\"answer46\"\":\"\"Yes\"\",\"\"answer47\"\":\"\"Car\"\",\"\"answer48\"\":\"\"Female\"\",\"\"answer49\"\":\"\"61\"\",\"\"answer50\"\":\"\"1\"\",\"\"answer51\"\":\"\"Graduate degree\"\",\"\"answer52\"\":\"\"Self-employed\"\",\"\"answer53\"\":\"\"$100,000 to $149,000\"\",\"\"answer54\"\":\"\"San Diego\"\",\"\"answer55\"\":\"\"California\"\"},{\"\"traits\"\":\"\"Female aged 60+\"\",\"\"answer1\"\":\"\"11\"\",\"\"answer2\"\":\"\"Yorkshire Terrier\"\",\"\"answer3\"\":\"\"7\"\",\"\"answer4\"\":\"\"Pixie\"\",\"\"answer5\"\":\"\"Her tiny, fairy-like appearance\"\",\"\"answer6\"\":\"\"Pix\"\",\"\"answer7\"\":\"\"Before 2020\"\",\"\"answer8\"\":\"\"no\"\",\"\"answer9\"\":\"\"12\"\",\"\"answer10\"\":\"\"A bit anxious, she was so small\"\",\"\"answer11\"\":\"\"I enjoy everyday moments more\"\",\"\"answer12\"\":\"\"5\"\",\"\"answer13\"\":\"\"Family Member\"\",\"\"answer14\"\":\"\"She\\'s been with me through thick and thin\"\",\"\"answer15\"\":\"\"Spin, just took two weeks\"\",\"\"answer16\"\":\"\"13, her cushioned crate\"\",\"\"answer17\"\":\"\"yes\"\",\"\"answer18\"\":\"\"$700\"\",\"\"answer19\"\":\"\"15%\"\",\"\"answer20\"\":\"\"45%\"\",\"\"answer21\"\":\"\"$60\"\",\"\"answer22\"\":\"\"Spent about the same in March\"\",\"\"answer23\"\":\"\"Bi-weekly\"\",\"\"answer24\"\":\"\"Dry food\"\",\"\"answer25\"\":\"\"I know just the basics about the brand\"\",\"\"answer26\"\":\"\"4\"\",\"\"answer27\"\":\"\"3\"\",\"\"answer28\"\":\"\"4\"\",\"\"answer29\"\":\"\"5\"\",\"\"answer30\"\":\"\"5\"\",\"\"answer31\"\":\"\"1\"\",\"\"answer32\"\":\"\"4\"\",\"\"answer33\"\":\"\"Iams\"\",\"\"answer34\"\":\"\"My Pixie\\'s health, cost-effective\"\",\"\"answer35\"\":\"\"4\"\",\"\"answer36\"\":\"\"5\"\",\"\"answer37\"\":\"\"4\"\",\"\"answer38\"\":\"\"4\"\",\"\"answer39\"\":\"\"5\"\",\"\"answer40\"\":\"\"1\"\",\"\"answer41\"\":\"\"4\"\",\"\"answer42\"\":\"\"5\"\",\"\"answer43\"\":\"\"I interact more\"\",\"\"answer44\"\":\"\"The pandemic has us spending more time indoors\"\",\"\"answer45\"\":\"\"Not Sure\"\",\"\"answer46\"\":\"\"No\"\",\"\"answer47\"\":\"\"N/A-I\\'m not planning to travel with my dog this Spring\"\",\"\"answer48\"\":\"\"Female\"\",\"\"answer49\"\":\"\"72\"\",\"\"answer50\"\":\"\"2\"\",\"\"answer51\"\":\"\"High school diploma or equivalent\"\",\"\"answer52\"\":\"\"Retired\"\",\"\"answer53\"\":\"\"Less than $25,000\"\",\"\"answer54\"\":\"\"Macon\"\",\"\"answer55\"\":\"\"Georgia\"\"},{\"\"traits\"\":\"\"Female aged 60+\"\",\"\"answer1\"\":\"\"4\"\",\"\"answer2\"\":\"\"Border Collie\"\",\"\"answer3\"\":\"\"45\"\",\"\"answer4\"\":\"\"Shep\"\",\"\"answer5\"\":\"\"Traditional name for a sheepdog\"\",\"\"answer6\"\":\"\"Sheppy\"\",\"\"answer7\"\":\"\"Before 2020\"\",\"\"answer8\"\":\"\"yes\"\",\"\"answer9\"\":\"\"5\"\",\"\"answer10\"\":\"\"I felt protective\"\",\"\"answer11\"\":\"\"Daily physical activity is a must\"\",\"\"answer12\"\":\"\"5\"\",\"\"answer13\"\":\"\"Loyal companion\"\",\"\"answer14\"\":\"\"Always ready to work and play\"\",\"\"answer15\"\":\"\"We\\'ve mastered herding techniques, took months\"\",\"\"answer16\"\":\"\"10, in the utility room on his mat\"\",\"\"answer17\"\":\"\"yes\"\",\"\"answer18\"\":\"\"$1300\"\",\"\"answer19\"\":\"\"10%\"\",\"\"answer20\"\":\"\"55%\"\",\"\"answer21\"\":\"\"$110\"\",\"\"answer22\"\":\"\"Spent about the same in March\"\",\"\"answer23\"\":\"\"Weekly\"\",\"\"answer24\"\":\"\"Dry food\"\",\"\"answer25\"\":\"\"I know a lot about the brand\"\",\"\"answer26\"\":\"\"5\"\",\"\"answer27\"\":\"\"4\"\",\"\"answer28\"\":\"\"5\"\",\"\"answer29\"\":\"\"3\"\",\"\"answer30\"\":\"\"5\"\",\"\"answer31\"\":\"\"3\"\",\"\"answer32\"\":\"\"2\"\",\"\"answer33\"\":\"\"Acana\"\",\"\"answer34\"\":\"\"High-quality, breed-specific formula\"\",\"\"answer35\"\":\"\"5\"\",\"\"answer36\"\":\"\"4\"\",\"\"answer37\"\":\"\"5\"\",\"\"answer38\"\":\"\"4\"\",\"\"answer39\"\":\"\"5\"\",\"\"answer40\"\":\"\"3\"\",\"\"answer41\"\":\"\"2\"\",\"\"answer42\"\":\"\"4\"\",\"\"answer43\"\":\"\"No change\"\",\"\"answer44\"\":\"\"Seasonal allergies, we adjust our time outside\"\",\"\"answer45\"\":\"\"No\"\",\"\"answer46\"\":\"\"No\"\",\"\"answer47\"\":\"\"N/A-I\\'m not planning to travel with my dog this Spring\"\",\"\"answer48\"\":\"\"Female\"\",\"\"answer49\"\":\"\"67\"\",\"\"answer50\"\":\"\"1\"\",\"\"answer51\"\":\"\"Bachelor\\'s degree\"\",\"\"answer52\"\":\"\"Employed part-time\"\",\"\"answer53\"\":\"\"$25,000 to $49,999\"\",\"\"answer54\"\":\"\"Topeka\"\",\"\"answer55\"\":\"\"Kansas\"\"},{\"\"traits\"\":\"\"Female aged 60+\"\",\"\"answer1\"\":\"\"10\"\",\"\"answer2\"\":\"\"Chihuahua\"\",\"\"answer3\"\":\"\"5\"\",\"\"answer4\"\":\"\"Tiny\"\",\"\"answer5\"\":\"\"Her petite size\"\",\"\"answer6\"\":\"\"T\"\",\"\"answer7\"\":\"\"After 2020\"\",\"\"answer8\"\":\"\"yes\"\",\"\"answer9\"\":\"\"24\"\",\"\"answer10\"\":\"\"Amused by her sassiness\"\",\"\"answer11\"\":\"\"It\\'s important to love fiercely\"\",\"\"answer12\"\":\"\"5\"\",\"\"answer13\"\":\"\"Best Friend\"\",\"\"answer14\"\":\"\"Tiny is always by my side, my constant tiny shadow\"\",\"\"answer15\"\":\"\"Sit pretty, she picked it up in days\"\",\"\"answer16\"\":\"\"14, she curls up in the bed under the window\"\",\"\"answer17\"\":\"\"yes\"\",\"\"answer18\"\":\"\"$550\"\",\"\"answer19\"\":\"\"40%\"\",\"\"answer20\"\":\"\"30%\"\",\"\"answer21\"\":\"\"$50\"\",\"\"answer22\"\":\"\"Spent less in March\"\",\"\"answer23\"\":\"\"Bi-weekly\"\",\"\"answer24\"\":\"\"Mix\"\",\"\"answer25\"\":\"\"I know just the basics about the brand\"\",\"\"answer26\"\":\"\"5\"\",\"\"answer27\"\":\"\"5\"\",\"\"answer28\"\":\"\"5\"\",\"\"answer29\"\":\"\"2\"\",\"\"answer30\"\":\"\"5\"\",\"\"answer31\"\":\"\"2\"\",\"\"answer32\"\":\"\"1\"\",\"\"answer33\"\":\"\"Cesar\"\",\"\"answer34\"\":\"\"Tiny loves it, it\\'s affordable, easy to store\"\",\"\"answer35\"\":\"\"5\"\",\"\"answer36\"\":\"\"5\"\",\"\"answer37\"\":\"\"4\"\",\"\"answer38\"\":\"\"2\"\",\"\"answer39\"\":\"\"5\"\",\"\"answer40\"\":\"\"2\"\",\"\"answer41\"\":\"\"1\"\",\"\"answer42\"\":\"\"5\"\",\"\"answer43\"\":\"\"No change\"\",\"\"answer44\"\":\"\"The seasons changing is the biggest influence\"\",\"\"answer45\"\":\"\"Yes\"\",\"\"answer46\"\":\"\"Yes\"\",\"\"answer47\"\":\"\"Car\"\",\"\"answer48\"\":\"\"Female\"\",\"\"answer49\"\":\"\"69\"\",\"\"answer50\"\":\"\"1\"\",\"\"answer51\"\":\"\"Some college, no degree\"\",\"\"answer52\"\":\"\"Retired\"\",\"\"answer53\"\":\"\"$50,000 to $74,999\"\",\"\"answer54\"\":\"\"El Paso\"\",\"\"answer55\"\":\"\"Texas\"\"},{\"\"traits\"\":\"\"Female aged 60+\"\",\"\"answer1\"\":\"\"6\"\",\"\"answer2\"\":\"\"Bulldog\"\",\"\"answer3\"\":\"\"50\"\",\"\"answer4\"\":\"\"Winston\"\",\"\"answer5\"\":\"\"His stately, British-like demeanor\"\",\"\"answer6\"\":\"\"Win\"\",\"\"answer7\"\":\"\"Before 2020\"\",\"\"answer8\"\":\"\"no\"\",\"\"answer9\"\":\"\"3\"\",\"\"answer10\"\":\"\"Awe, he\\'s got so much character\"\",\"\"answer11\"\":\"\"I\\'ve become more patient\"\",\"\"answer12\"\":\"\"5\"\",\"\"answer13\"\":\"\"Family Member\"\",\"\"answer14\"\":\"\"He\\'s more like a child to me than a pet\"\",\"\"answer15\"\":\"\"Speak on command, a stubborn month or so\"\",\"\"answer16\"\":\"\"12, sprawled across the hallway rug\"\",\"\"answer17\"\":\"\"yes\"\",\"\"answer18\"\":\"\"$1100\"\",\"\"answer19\"\":\"\"15%\"\",\"\"answer20\"\":\"\"45%\"\",\"\"answer21\"\":\"\"$90\"\",\"\"answer22\"\":\"\"Spent about the same in March\"\",\"\"answer23\"\":\"\"Monthly\"\",\"\"answer24\"\":\"\"Dry food\"\",\"\"answer25\"\":\"\"I know a lot about the brand\"\",\"\"answer26\"\":\"\"4\"\",\"\"answer27\"\":\"\"2\"\",\"\"answer28\"\":\"\"4\"\",\"\"answer29\"\":\"\"5\"\",\"\"answer30\"\":\"\"5\"\",\"\"answer31\"\":\"\"3\"\",\"\"answer32\"\":\"\"3\"\",\"\"answer33\"\":\"\"Nutro\"\",\"\"answer34\"\":\"\"Non-GMO ingredients, Winston\\'s preference\"\",\"\"answer35\"\":\"\"4\"\",\"\"answer36\"\":\"\"3\"\",\"\"answer37\"\":\"\"4\"\",\"\"answer38\"\":\"\"5\"\",\"\"answer39\"\":\"\"5\"\",\"\"answer40\"\":\"\"3\"\",\"\"answer41\"\":\"\"3\"\",\"\"answer42\"\":\"\"3\"\",\"\"answer43\"\":\"\"I interact less\"\",\"\"answer44\"\":\"\"Winston\\'s aging, he is more independent\"\",\"\"answer45\"\":\"\"Not Sure\"\",\"\"answer46\"\":\"\"No\"\",\"\"answer47\"\":\"\"N/A-I\\'m not planning to travel with my dog this Spring\"\",\"\"answer48\"\":\"\"Female\"\",\"\"answer49\"\":\"\"65\"\",\"\"answer50\"\":\"\"2\"\",\"\"answer51\"\":\"\"Graduate degree\"\",\"\"answer52\"\":\"\"Retired\"\",\"\"answer53\"\":\"\"Prefer not to say\"\",\"\"answer54\"\":\"\"Charleston\"\",\"\"answer55\"\":\"\"South Carolina\"\"},{\"\"traits\"\":\"\"Female aged 60+\"\",\"\"answer1\"\":\"\"8\"\",\"\"answer2\"\":\"\"Shih Tzu\"\",\"\"answer3\"\":\"\"12\"\",\"\"answer4\"\":\"\"Gizmo\"\",\"\"answer5\"\":\"\"His playful and curious nature\"\",\"\"answer6\"\":\"\"Gizzy\"\",\"\"answer7\"\":\"\"In 2020\"\",\"\"answer8\"\":\"\"yes\"\",\"\"answer9\"\":\"\"60\"\",\"\"answer10\"\":\"\"Instant love, he\\'s such a fluffball\"\",\"\"answer11\"\":\"\"I\\'m more outgoing, he needs lots of socializing\"\",\"\"answer12\"\":\"\"5\"\",\"\"answer13\"\":\"\"Best Friend\"\",\"\"answer14\"\":\"\"We have an unbreakable bond\"\",\"\"answer15\"\":\"\"Roll over, a week\\'s full of treats and praise\"\",\"\"answer16\"\":\"\"15, on his favorite armchair\"\",\"\"answer17\"\":\"\"yes\"\",\"\"answer18\"\":\"\"$950\"\",\"\"answer19\"\":\"\"10%\"\",\"\"answer20\"\":\"\"55%\"\",\"\"answer21\"\":\"\"$80\"\",\"\"answer22\"\":\"\"Spent about the same in March\"\",\"\"answer23\"\":\"\"Monthly\"\",\"\"answer24\"\":\"\"Dry food\"\",\"\"answer25\"\":\"\"I know just the basics about the brand\"\",\"\"answer26\"\":\"\"5\"\",\"\"answer27\"\":\"\"4\"\",\"\"answer28\"\":\"\"5\"\",\"\"answer29\"\":\"\"3\"\",\"\"answer30\"\":\"\"5\"\",\"\"answer31\"\":\"\"1\"\",\"\"answer32\"\":\"\"4\"\",\"\"answer33\"\":\"\"Science Diet\"\",\"\"answer34\"\":\"\"Gizzy likes it, vet approved, easy to find\"\",\"\"answer35\"\":\"\"4\"\",\"\"answer36\"\":\"\"4\"\",\"\"answer37\"\":\"\"5\"\",\"\"answer38\"\":\"\"3\"\",\"\"answer39\"\":\"\"5\"\",\"\"answer40\"\":\"\"1\"\",\"\"answer41\"\":\"\"4\"\",\"\"answer42\"\":\"\"4\"\",\"\"answer43\"\":\"\"No change\"\",\"\"answer44\"\":\"\"Seasonal weather, we keep our routine\"\",\"\"answer45\"\":\"\"Yes\"\",\"\"answer46\"\":\"\"Not Sure\"\",\"\"answer47\"\":\"\"N/A-I\\'m not planning to travel with my dog this Spring\"\",\"\"answer48\"\":\"\"Female\"\",\"\"answer49\"\":\"\"64\"\",\"\"answer50\"\":\"\"1\"\",\"\"answer51\"\":\"\"Bachelor\\'s degree\"\",\"\"answer52\"\":\"\"Employed full-time\"\",\"\"answer53\"\":\"\"$50,000 to $74,999\"\",\"\"answer54\"\":\"\"Reno\"\",\"\"answer55\"\":\"\"Nevada\"\"},{\"\"traits\"\":\"\"Female aged 60+\"\",\"\"answer1\"\":\"\"1\"\",\"\"answer2\"\":\"\"Australian Shepherd\"\",\"\"answer3\"\":\"\"30\"\",\"\"answer4\"\":\"\"Blue\"\",\"\"answer5\"\":\"\"His striking blue eyes\"\",\"\"answer6\"\":\"\"Boo\"\",\"\"answer7\"\":\"\"After 2020\"\",\"\"answer8\"\":\"\"no\"\",\"\"answer9\"\":\"\"2\"\",\"\"answer10\"\":\"\"Thrilled, he was full of energy\"\",\"\"answer11\"\":\"\"I\\'ve got a new sense of purpose\"\",\"\"answer12\"\":\"\"5\"\",\"\"answer13\"\":\"\"Loyal companion\"\",\"\"answer14\"\":\"\"He\\'s loyal and always there for support\"\",\"\"answer15\"\":\"\"Fetch with a frisbee, about two weeks\"\",\"\"answer16\"\":\"\"14, on a runner in the hall\"\",\"\"answer17\"\":\"\"yes\"\",\"\"answer18\"\":\"\"$1000\"\",\"\"answer19\"\":\"\"5%\"\",\"\"answer20\"\":\"\"65%\"\",\"\"answer21\"\":\"\"$85\"\",\"\"answer22\"\":\"\"Spent more in March\"\",\"\"answer23\"\":\"\"Weekly\"\",\"\"answer24\"\":\"\"Dry food\"\",\"\"answer25\"\":\"\"I know a lot about the brand\"\",\"\"answer26\"\":\"\"5\"\",\"\"answer27\"\":\"\"3\"\",\"\"answer28\"\":\"\"5\"\",\"\"answer29\"\":\"\"4\"\",\"\"answer30\"\":\"\"5\"\",\"\"answer31\"\":\"\"4\"\",\"\"answer32\"\":\"\"1\"\",\"\"answer33\"\":\"\"Taste of the Wild\"\",\"\"answer34\"\":\"\"Grain-free, Blue\\'s coat looks amazing\"\",\"\"answer35\"\":\"\"5\"\",\"\"answer36\"\":\"\"4\"\",\"\"answer37\"\":\"\"5\"\",\"\"answer38\"\":\"\"4\"\",\"\"answer39\"\":\"\"5\"\",\"\"answer40', 'name': 'Answers'}})\n"
   ]
  },
  {
   "cell_type": "code",
   "execution_count": null,
   "id": "56c51194",
   "metadata": {},
   "outputs": [],
   "source": [
    "b = AIMessage(content='', additional_kwargs={'function_call': {'arguments': '{\"\"answer\"\":[{\"\"traits\"\":\"\"Female aged 60+\"\",\"\"answer1\"\":\"\"7\"\",\"\"answer2\"\":\"\"Beagle\"\",\"\"answer3\"\":\"\"28\"\",\"\"answer4\"\":\"\"Bailey\"\",\"\"answer5\"\":\"\"It was the name she had been given at the shelter, and it suited her well.\"\",\"\"answer6\"\":\"\"Bails\"\",\"\"answer7\"\":\"\"Before 2020\"\",\"\"answer8\"\":\"\"yes\"\",\"\"answer9\"\":\"\"18\"\",\"\"answer10\"\":\"\"I was overwhelmed with joy and a bit anxious about whether I could provide a good home.\"\",\"\"answer11\"\":\"\"She\\'s brought so much joy and a daily routine that keeps me active.\"\",\"\"answer12\"\":\"\"5\"\",\"\"answer13\"\":\"\"Best Friend\"\",\"\"answer14\"\":\"\"Bailey is always there for me, through the good and bad times.\"\",\"\"answer15\"\":\"\"Shake hands, about a week.\"\",\"\"answer16\"\":\"\"14, she has a cozy bed in my bedroom.\"\",\"\"answer17\"\":\"\"yes\"\",\"\"answer18\"\":\"\"$1200\"\",\"\"answer19\"\":\"\"25%\"\",\"\"answer20\"\":\"\"50%\"\",\"\"answer21\"\":\"\"$100\"\",\"\"answer22\"\":\"\"Spent about the same in March\"\",\"\"answer23\"\":\"\"Monthly\"\",\"\"answer24\"\":\"\"Dry food\"\",\"\"answer25\"\":\"\"I know just the basics about the brand\"\",\"\"answer26\"\":\"\"5\"\",\"\"answer27\"\":\"\"4\"\",\"\"answer28\"\":\"\"5\"\",\"\"answer29\"\":\"\"3\"\",\"\"answer30\"\":\"\"5\"\",\"\"answer31\"\":\"\"3\"\",\"\"answer32\"\":\"\"2\"\",\"\"answer33\"\":\"\"Purina\"\",\"\"answer34\"\":\"\"Good value, she enjoys it, widely available.\"\",\"\"answer35\"\":\"\"5\"\",\"\"answer36\"\":\"\"4\"\",\"\"answer37\"\":\"\"5\"\",\"\"answer38\"\":\"\"4\"\",\"\"answer39\"\":\"\"5\"\",\"\"answer40\"\":\"\"3\"\",\"\"answer41\"\":\"\"2\"\",\"\"answer42\"\":\"\"2\"\",\"\"answer43\"\":\"\"No change\"\",\"\"answer44\"\":\"\"None in particular\"\",\"\"answer45\"\":\"\"No\"\",\"\"answer46\"\":\"\"No\"\",\"\"answer47\"\":\"\"N/A-I\\'m not planning to travel with my dog this Spring\"\",\"\"answer48\"\":\"\"Female\"\",\"\"answer49\"\":\"\"65\"\",\"\"answer50\"\":\"\"1\"\",\"\"answer51\"\":\"\"Graduate degree\"\",\"\"answer52\"\":\"\"Retired\"\",\"\"answer53\"\":\"\"$50,000 to $74,999\"\",\"\"answer54\"\":\"\"Sarasota\"\",\"\"answer55\"\":\"\"Florida\"\"},{\"\"traits\"\":\"\"Female aged 60+\"\",\"\"answer1\"\":\"\"10\"\",\"\"answer2\"\":\"\"Labrador Retriever\"\",\"\"answer3\"\":\"\"72\"\",\"\"answer4\"\":\"\"Max\"\",\"\"answer5\"\":\"\"Max just seemed like a strong and friendly name, which matched his personality.\"\",\"\"answer6\"\":\"\"Maxie\"\",\"\"answer7\"\":\"\"After 2020\"\",\"\"answer8\"\":\"\"no\"\",\"\"answer9\"\":\"\"8\"\",\"\"answer10\"\":\"\"Instant love, like we were meant to find each other.\"\",\"\"answer11\"\":\"\"He reminds me to appreciate the little moments.\"\",\"\"answer12\"\":\"\"5\"\",\"\"answer13\"\":\"\"Family Member\"\",\"\"answer14\"\":\"\"He\\'s not just a pet; he\\'s a part of the family.\"\",\"\"answer15\"\":\"\"\\'Leave it\\' command, took around two weeks.\"\",\"\"answer16\"\":\"\"10, Max has his own bed in the living room.\"\",\"\"answer17\"\":\"\"yes\"\",\"\"answer18\"\":\"\"$1800\"\",\"\"answer19\"\":\"\"30%\"\",\"\"answer20\"\":\"\"40%\"\",\"\"answer21\"\":\"\"$150\"\",\"\"answer22\"\":\"\"Spent more in March\"\",\"\"answer23\"\":\"\"Weekly\"\",\"\"answer24\"\":\"\"Mix\"\",\"\"answer25\"\":\"\"I know a lot about the brand\"\",\"\"answer26\"\":\"\"5\"\",\"\"answer27\"\":\"\"3\"\",\"\"answer28\"\":\"\"5\"\",\"\"answer29\"\":\"\"4\"\",\"\"answer30\"\":\"\"5\"\",\"\"answer31\"\":\"\"4\"\",\"\"answer32\"\":\"\"4\"\",\"\"answer33\"\":\"\"Royal Canin\"\",\"\"answer34\"\":\"\"High-quality ingredients, recommended by our vet, Max\\'s preference.\"\",\"\"answer35\"\":\"\"5\"\",\"\"answer36\"\":\"\"3\"\",\"\"answer37\"\":\"\"5\"\",\"\"answer38\"\":\"\"4\"\",\"\"answer39\"\":\"\"5\"\",\"\"answer40\"\":\"\"4\"\",\"\"answer41\"\":\"\"4\"\",\"\"answer42\"\":\"\"3\"\",\"\"answer43\"\":\"\"I interact more\"\",\"\"answer44\"\":\"\"The ongoing pandemic has given us more time together.\"\",\"\"answer45\"\":\"\"Yes\"\",\"\"answer46\"\":\"\"No\"\",\"\"answer47\"\":\"\"Car\"\",\"\"answer48\"\":\"\"Female\"\",\"\"answer49\"\":\"\"68\"\",\"\"answer50\"\":\"\"2\"\",\"\"answer51\"\":\"\"Bachelor\\'s degree\"\",\"\"answer52\"\":\"\"Employed part-time\"\",\"\"answer53\"\":\"\"$50,000 to $74,999\"\",\"\"answer54\"\":\"\"Albuquerque\"\",\"\"answer55\"\":\"\"New Mexico\"\"},{\"\"traits\"\":\"\"Female aged 60+\"\",\"\"answer1\"\":\"\"3\"\",\"\"answer2\"\":\"\"Golden Retriever\"\",\"\"answer3\"\":\"\"65\"\",\"\"answer4\"\":\"\"Sunny\"\",\"\"answer5\"\":\"\"She has a bright golden coat and a sunny disposition!\"\",\"\"answer6\"\":\"\"Sunshine\"\",\"\"answer7\"\":\"\"After 2020\"\",\"\"answer8\"\":\"\"yes\"\",\"\"answer9\"\":\"\"10\"\",\"\"answer10\"\":\"\"It felt like a dream, she was so sweet and gentle.\"\",\"\"answer11\"\":\"\"Sunny has made me more compassionate and patient.\"\",\"\"answer12\"\":\"\"5\"\",\"\"answer13\"\":\"\"Loyal Companion\"\",\"\"answer14\"\":\"\"Through thick and thin, she\\'s always by my side, loyal as they come.\"\",\"\"answer15\"\":\"\"\\'Stay,\\' about three days with consistent practice.\"\",\"\"answer16\"\":\"\"12, a plush bed next to mine.\"\",\"\"answer17\"\":\"\"yes\"\",\"\"answer18\"\":\"\"$900\"\",\"\"answer19\"\":\"\"20%\"\",\"\"answer20\"\":\"\"60%\"\",\"\"answer21\"\":\"\"$75\"\",\"\"answer22\"\":\"\"Spent less in March\"\",\"\"answer23\"\":\"\"Monthly\"\",\"\"answer24\"\":\"\"Dry food\"\",\"\"answer25\"\":\"\"I know just the basics about the brand\"\",\"\"answer26\"\":\"\"5\"\",\"\"answer27\"\":\"\"3\"\",\"\"answer28\"\":\"\"5\"\",\"\"answer29\"\":\"\"3\"\",\"\"answer30\"\":\"\"5\"\",\"\"answer31\"\":\"\"3\"\",\"\"answer32\"\":\"\"1\"\",\"\"answer33\"\":\"\"Hill\\'s Science Diet\"\",\"\"answer34\"\":\"\"She loves it, seems to keep her healthy.\"\",\"\"answer35\"\":\"\"5\"\",\"\"answer36\"\":\"\"4\"\",\"\"answer37\"\":\"\"5\"\",\"\"answer38\"\":\"\"4\"\",\"\"answer39\"\":\"\"5\"\",\"\"answer40\"\":\"\"3\"\",\"\"answer41\"\":\"\"2\"\",\"\"answer42\"\":\"\"2\"\",\"\"answer43\"\":\"\"No change\"\",\"\"answer44\"\":\"\"None in particular\"\",\"\"answer45\"\":\"\"Not Sure\"\",\"\"answer46\"\":\"\"Yes\"\",\"\"answer47\"\":\"\"Car\"\",\"\"answer48\"\":\"\"Female\"\",\"\"answer49\"\":\"\"72\"\",\"\"answer50\"\":\"\"1\"\",\"\"answer51\"\":\"\"Associate degree\"\",\"\"answer52\"\":\"\"Retired\"\",\"\"answer53\"\":\"\"Less than $25,000\"\",\"\"answer54\"\":\"\"Eugene\"\",\"\"answer55\"\":\"\"Oregon\"\"},{\"\"traits\"\":\"\"Female aged 60+\"\",\"\"answer1\"\":\"\"5\"\",\"\"answer2\"\":\"\"Poodle\"\",\"\"answer3\"\":\"\"15\"\",\"\"answer4\"\":\"\"Coco\"\",\"\"answer5\"\":\"\"After Chanel, because Coco has such a stylish and sophisticated aura.\"\",\"\"answer6\"\":\"\"Cokes\"\",\"\"answer7\"\":\"\"Before 2020\"\",\"\"answer8\"\":\"\"no\"\",\"\"answer9\"\":\"\"24\"\",\"\"answer10\"\":\"\"Nervous but also excited, she was adorably shy.\"\",\"\"answer11\"\":\"\"In her gentle way, she has taught me to be calmer.\"\",\"\"answer12\"\":\"\"5\"\",\"\"answer13\"\":\"\"Protector\"\",\"\"answer14\"\":\"\"Despite her size, she\\'s always alert and makes me feel safe.\"\",\"\"answer15\"\":\"\"\\'Dance\\' on hind legs, took her a couple of days.\"\",\"\"answer16\"\":\"\"16, Coco sleeps in a small bed beside my desk.\"\",\"\"answer17\"\":\"\"yes\"\",\"\"answer18\"\":\"\"$700\"\",\"\"answer19\"\":\"\"10%\"\",\"\"answer20\"\":\"\"70%\"\",\"\"answer21\"\":\"\"$60\"\",\"\"answer22\"\":\"\"I\\'m not sure\"\",\"\"answer23\"\":\"\"Bi-weekly\"\",\"\"answer24\"\":\"\"Wet food\"\",\"\"answer25\"\":\"\"I know a lot about the brand\"\",\"\"answer26\"\":\"\"4\"\",\"\"answer27\"\":\"\"2\"\",\"\"answer28\"\":\"\"4\"\",\"\"answer29\"\":\"\"5\"\",\"\"answer30\"\":\"\"5\"\",\"\"answer31\"\":\"\"5\"\",\"\"answer32\"\":\"\"3\"\",\"\"answer33\"\":\"\"Blue Buffalo\"\",\"\"answer34\"\":\"\"Quality ingredients, variety of flavors, and Coco’s contentment.\"\",\"\"answer35\"\":\"\"5\"\",\"\"answer36\"\":\"\"3\"\",\"\"answer37\"\":\"\"5\"\",\"\"answer38\"\":\"\"5\"\",\"\"answer39\"\":\"\"5\"\",\"\"answer40\"\":\"\"5\"\",\"\"answer41\"\":\"\"3\"\",\"\"answer42\"\":\"\"4\"\",\"\"answer43\"\":\"\"No change\"\",\"\"answer44\"\":\"\"None in particular\"\",\"\"answer45\"\":\"\"No\"\",\"\"answer46\"\":\"\"Not Sure\"\",\"\"answer47\"\":\"\"Other\"\",\"\"answer48\"\":\"\"Female\"\",\"\"answer49\"\":\"\"63\"\",\"\"answer50\"\":\"\"1\"\",\"\"answer51\"\":\"\"Graduate degree\"\",\"\"answer52\"\":\"\"Self-employed\"\",\"\"answer53\"\":\"\"$100,000 to $149,000\"\",\"\"answer54\"\":\"\"Austin\"\",\"\"answer55\"\":\"\"Texas\"\"},{\"\"traits\"\":\"\"Female aged 60+\"\",\"\"answer1\"\":\"\"8\"\",\"\"answer2\"\":\"\"Dachshund\"\",\"\"answer3\"\":\"\"22\"\",\"\"answer4\"\":\"\"Frankie\"\",\"\"answer5\"\":\"\"He reminded me of old Frankie Sinatra because of his smooth charm.\"\",\"\"answer6\"\":\"\"Frank\"\",\"\"answer7\"\":\"\"Before 2020\"\",\"\"answer8\"\":\"\"yes\"\",\"\"answer9\"\":\"\"36\"\",\"\"answer10\"\":\"\"I couldn\\'t help but laugh; he had such a funny, energetic vibe.\"\",\"\"answer11\"\":\"\"Frankie demonstrates every day that age is just a number.\"\",\"\"answer12\"\":\"\"5\"\",\"\"answer13\"\":\"\"Family Member\"\",\"\"answer14\"\":\"\"He\\'s been a constant in my life, just as any family member would.\"\",\"\"answer15\"\":\"\"The \\'beg\\' trick. It took almost a month of sporadic practice.\"\",\"\"answer16\"\":\"\"12, he\\'s got a little bed in the corner of the living room.\"\",\"\"answer17\"\":\"\"yes\"\",\"\"answer18\"\":\"\"$1100\"\",\"\"answer19\"\":\"\"15%\"\",\"\"answer20\"\":\"\"55%\"\",\"\"answer21\"\":\"\"$90\"\",\"\"answer22\"\":\"\"Spent about the same in March\"\",\"\"answer23\"\":\"\"Bi-weekly\"\",\"\"answer24\"\":\"\"Mix\"\",\"\"answer25\"\":\"\"I know a lot about the brand\"\",\"\"answer26\"\":\"\"4\"\",\"\"answer27\"\":\"\"3\"\",\"\"answer28\"\":\"\"4\"\",\"\"answer29\"\":\"\"4\"\",\"\"answer30\"\":\"\"5\"\",\"\"answer31\"\":\"\"2\"\",\"\"answer32\"\":\"\"2\"\",\"\"answer33\"\":\"\"Iams\"\",\"\"answer34\"\":\"\"Frankie likes it, I trust the brand, and it\\'s a decent price.\"\",\"\"answer35\"\":\"\"4\"\",\"\"answer36\"\":\"\"3\"\",\"\"answer37\"\":\"\"4\"\",\"\"answer38\"\":\"\"4\"\",\"\"answer39\"\":\"\"5\"\",\"\"answer40\"\":\"\"2\"\",\"\"answer41\"\":\"\"2\"\",\"\"answer42\"\":\"\"3\"\",\"\"answer43\"\":\"\"I interact less\"\",\"\"answer44\"\":\"\"I\\'ve had to limit our outdoor interactions due to my recent knee surgery.\"\",\"\"answer45\"\":\"\"Yes\"\",\"\"answer46\"\":\"\"Yes\"\",\"\"answer47\"\":\"\"Car\"\",\"\"answer48\"\":\"\"Female\"\",\"\"answer49\"\":\"\"71\"\",\"\"answer50\"\":\"\"2\"\",\"\"answer51\"\":\"\"Bachelor\\'s degree\"\",\"\"answer52\"\":\"\"Retired\"\",\"\"answer53\"\":\"\"$50,000 to $74,999\"\",\"\"answer54\"\":\"\"Colorado Springs\"\",\"\"answer55\"\":\"\"Colorado\"\"}]}', 'name': 'Answers'}})\n"
   ]
  },
  {
   "cell_type": "code",
   "execution_count": null,
   "id": "7f6b0103",
   "metadata": {},
   "outputs": [],
   "source": [
    "b"
   ]
  },
  {
   "cell_type": "code",
   "execution_count": null,
   "id": "09ff8f78",
   "metadata": {},
   "outputs": [],
   "source": [
    "tt = b.additional_kwargs['function_call']['arguments']"
   ]
  },
  {
   "cell_type": "code",
   "execution_count": null,
   "id": "ff9a3b7e",
   "metadata": {},
   "outputs": [],
   "source": [
    "tt"
   ]
  },
  {
   "cell_type": "code",
   "execution_count": null,
   "id": "cee36745",
   "metadata": {},
   "outputs": [],
   "source": [
    "t = ','.join(a.additional_kwargs['function_call']['arguments'].split(',')[:-1])+'}]}'"
   ]
  },
  {
   "cell_type": "code",
   "execution_count": null,
   "id": "443432f6",
   "metadata": {},
   "outputs": [],
   "source": [
    "t  =t.replace('\"\"', '\"')"
   ]
  },
  {
   "cell_type": "code",
   "execution_count": null,
   "id": "10f5054b",
   "metadata": {},
   "outputs": [],
   "source": [
    "t"
   ]
  },
  {
   "cell_type": "code",
   "execution_count": null,
   "id": "0d404f3f",
   "metadata": {},
   "outputs": [],
   "source": [
    "json.loads(t)"
   ]
  },
  {
   "cell_type": "code",
   "execution_count": null,
   "id": "f039a792",
   "metadata": {},
   "outputs": [],
   "source": [
    "b.additional_kwargs['function_call']['arguments'] = b.additional_kwargs['function_call']['arguments'].replace('\"\"', '\"')"
   ]
  },
  {
   "cell_type": "code",
   "execution_count": null,
   "id": "c10f9aef",
   "metadata": {},
   "outputs": [],
   "source": [
    "json.loads(b.additional_kwargs['function_call']['arguments'])['answer']"
   ]
  },
  {
   "cell_type": "code",
   "execution_count": null,
   "id": "46ef5c47",
   "metadata": {},
   "outputs": [],
   "source": [
    "import re\n",
    "data = json.loads(re.sub(r\"(\\w+):\", r'\"\\1\":', r\"b.additional_kwargs['function_call']['arguments']))"
   ]
  },
  {
   "cell_type": "code",
   "execution_count": null,
   "id": "44ff5577",
   "metadata": {},
   "outputs": [],
   "source": [
    "print(x)"
   ]
  },
  {
   "cell_type": "code",
   "execution_count": null,
   "id": "5966cd98",
   "metadata": {},
   "outputs": [],
   "source": [
    "i='{\"\"a\"\":\"\"1\"\", \"\"b\"\":\"\"2\"\", \"\"c\"\"}'\n",
    "i = ','.join(i.split(',')[:-1])+'}'\n",
    "print(i)\n",
    "i = i.replace('\"\"', '\"')\n",
    "print(i)\n",
    "json.loads(i)"
   ]
  },
  {
   "cell_type": "code",
   "execution_count": null,
   "id": "803ed186",
   "metadata": {},
   "outputs": [],
   "source": []
  },
  {
   "cell_type": "code",
   "execution_count": null,
   "id": "b279167f",
   "metadata": {},
   "outputs": [],
   "source": []
  }
 ],
 "metadata": {
  "kernelspec": {
   "display_name": "Python 3 (ipykernel)",
   "language": "python",
   "name": "python3"
  },
  "language_info": {
   "codemirror_mode": {
    "name": "ipython",
    "version": 3
   },
   "file_extension": ".py",
   "mimetype": "text/x-python",
   "name": "python",
   "nbconvert_exporter": "python",
   "pygments_lexer": "ipython3",
   "version": "3.10.13"
  }
 },
 "nbformat": 4,
 "nbformat_minor": 5
}
